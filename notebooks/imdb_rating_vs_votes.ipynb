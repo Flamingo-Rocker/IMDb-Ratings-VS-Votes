{
 "cells": [
  {
   "cell_type": "markdown",
   "id": "f85a80d2",
   "metadata": {},
   "source": [
    "## Basic Python - Project <a id='intro'></a>"
   ]
  },
  {
   "cell_type": "markdown",
   "id": "a1262df4",
   "metadata": {},
   "source": [
    "## Introduction <a id='intro'></a>\n",
    "In this project, I will work with data from the entertainment industry. I will study a dataset with records on movies and shows. The research will focus on the \"Golden Age\" of television, which began in 1999 with the release of *The Sopranos* and is still ongoing.\n",
    "\n",
    "The aim of this project is to investigate how the number of votes a title receives impacts its ratings. The assumption is that highly-rated shows (we will focus on TV shows, ignoring movies) released during the \"Golden Age\" of television also have the most votes.\n",
    "\n",
    "### Stages \n",
    "Data on movies and shows is stored in the `movies_and_shows.csv` file. There is no information about the quality of the data, so I will need to explore it before doing the analysis.\n",
    "\n",
    "First, I'll evaluate the quality of the data and see whether its issues are significant. Then, during data preprocessing, I will try to account for the most critical problems.\n",
    " \n",
    "The project will consist of three stages:\n",
    " 1. Data overview\n",
    " 2. Data preprocessing\n",
    " 3. Data analysis"
   ]
  },
  {
   "cell_type": "markdown",
   "id": "ac0593ac",
   "metadata": {},
   "source": [
    "## Stage 1. Data overview <a id='data_review'></a>\n",
    "\n",
    "Open and explore the data."
   ]
  },
  {
   "cell_type": "code",
   "execution_count": 12,
   "id": "1727d3f8",
   "metadata": {
    "trusted": false
   },
   "outputs": [],
   "source": [
    "import pandas as pd # importing pandas\n"
   ]
  },
  {
   "cell_type": "markdown",
   "id": "9821beeb",
   "metadata": {},
   "source": [
    "Read the `movies_and_shows.csv` file and save it in the `df` variable:"
   ]
  },
  {
   "cell_type": "code",
   "execution_count": 13,
   "id": "fc5a1402",
   "metadata": {
    "scrolled": true,
    "trusted": false
   },
   "outputs": [],
   "source": [
    "df = pd.read_csv('../data/movies_and_shows.csv') # reading the files and storing them to df\n"
   ]
  },
  {
   "cell_type": "markdown",
   "id": "f4c7f9a7",
   "metadata": {},
   "source": [
    "Print the first 10 table rows:"
   ]
  },
  {
   "cell_type": "code",
   "execution_count": 14,
   "id": "acd92001",
   "metadata": {
    "trusted": false
   },
   "outputs": [
    {
     "data": {
      "text/html": [
       "<div>\n",
       "<style scoped>\n",
       "    .dataframe tbody tr th:only-of-type {\n",
       "        vertical-align: middle;\n",
       "    }\n",
       "\n",
       "    .dataframe tbody tr th {\n",
       "        vertical-align: top;\n",
       "    }\n",
       "\n",
       "    .dataframe thead th {\n",
       "        text-align: right;\n",
       "    }\n",
       "</style>\n",
       "<table border=\"1\" class=\"dataframe\">\n",
       "  <thead>\n",
       "    <tr style=\"text-align: right;\">\n",
       "      <th></th>\n",
       "      <th>name</th>\n",
       "      <th>Character</th>\n",
       "      <th>r0le</th>\n",
       "      <th>TITLE</th>\n",
       "      <th>Type</th>\n",
       "      <th>release Year</th>\n",
       "      <th>genres</th>\n",
       "      <th>imdb sc0re</th>\n",
       "      <th>imdb v0tes</th>\n",
       "    </tr>\n",
       "  </thead>\n",
       "  <tbody>\n",
       "    <tr>\n",
       "      <th>0</th>\n",
       "      <td>Robert De Niro</td>\n",
       "      <td>Travis Bickle</td>\n",
       "      <td>ACTOR</td>\n",
       "      <td>Taxi Driver</td>\n",
       "      <td>MOVIE</td>\n",
       "      <td>1976</td>\n",
       "      <td>['drama', 'crime']</td>\n",
       "      <td>8.2</td>\n",
       "      <td>808582.0</td>\n",
       "    </tr>\n",
       "    <tr>\n",
       "      <th>1</th>\n",
       "      <td>Jodie Foster</td>\n",
       "      <td>Iris Steensma</td>\n",
       "      <td>ACTOR</td>\n",
       "      <td>Taxi Driver</td>\n",
       "      <td>MOVIE</td>\n",
       "      <td>1976</td>\n",
       "      <td>['drama', 'crime']</td>\n",
       "      <td>8.2</td>\n",
       "      <td>808582.0</td>\n",
       "    </tr>\n",
       "    <tr>\n",
       "      <th>2</th>\n",
       "      <td>Albert Brooks</td>\n",
       "      <td>Tom</td>\n",
       "      <td>ACTOR</td>\n",
       "      <td>Taxi Driver</td>\n",
       "      <td>MOVIE</td>\n",
       "      <td>1976</td>\n",
       "      <td>['drama', 'crime']</td>\n",
       "      <td>8.2</td>\n",
       "      <td>808582.0</td>\n",
       "    </tr>\n",
       "    <tr>\n",
       "      <th>3</th>\n",
       "      <td>Harvey Keitel</td>\n",
       "      <td>Matthew 'Sport' Higgins</td>\n",
       "      <td>ACTOR</td>\n",
       "      <td>Taxi Driver</td>\n",
       "      <td>MOVIE</td>\n",
       "      <td>1976</td>\n",
       "      <td>['drama', 'crime']</td>\n",
       "      <td>8.2</td>\n",
       "      <td>808582.0</td>\n",
       "    </tr>\n",
       "    <tr>\n",
       "      <th>4</th>\n",
       "      <td>Cybill Shepherd</td>\n",
       "      <td>Betsy</td>\n",
       "      <td>ACTOR</td>\n",
       "      <td>Taxi Driver</td>\n",
       "      <td>MOVIE</td>\n",
       "      <td>1976</td>\n",
       "      <td>['drama', 'crime']</td>\n",
       "      <td>8.2</td>\n",
       "      <td>808582.0</td>\n",
       "    </tr>\n",
       "    <tr>\n",
       "      <th>5</th>\n",
       "      <td>Peter Boyle</td>\n",
       "      <td>Wizard</td>\n",
       "      <td>ACTOR</td>\n",
       "      <td>Taxi Driver</td>\n",
       "      <td>MOVIE</td>\n",
       "      <td>1976</td>\n",
       "      <td>['drama', 'crime']</td>\n",
       "      <td>8.2</td>\n",
       "      <td>808582.0</td>\n",
       "    </tr>\n",
       "    <tr>\n",
       "      <th>6</th>\n",
       "      <td>Leonard Harris</td>\n",
       "      <td>Senator Charles Palantine</td>\n",
       "      <td>ACTOR</td>\n",
       "      <td>Taxi Driver</td>\n",
       "      <td>MOVIE</td>\n",
       "      <td>1976</td>\n",
       "      <td>['drama', 'crime']</td>\n",
       "      <td>8.2</td>\n",
       "      <td>808582.0</td>\n",
       "    </tr>\n",
       "    <tr>\n",
       "      <th>7</th>\n",
       "      <td>Diahnne Abbott</td>\n",
       "      <td>Concession Girl</td>\n",
       "      <td>ACTOR</td>\n",
       "      <td>Taxi Driver</td>\n",
       "      <td>MOVIE</td>\n",
       "      <td>1976</td>\n",
       "      <td>['drama', 'crime']</td>\n",
       "      <td>8.2</td>\n",
       "      <td>808582.0</td>\n",
       "    </tr>\n",
       "    <tr>\n",
       "      <th>8</th>\n",
       "      <td>Gino Ardito</td>\n",
       "      <td>Policeman at Rally</td>\n",
       "      <td>ACTOR</td>\n",
       "      <td>Taxi Driver</td>\n",
       "      <td>MOVIE</td>\n",
       "      <td>1976</td>\n",
       "      <td>['drama', 'crime']</td>\n",
       "      <td>8.2</td>\n",
       "      <td>808582.0</td>\n",
       "    </tr>\n",
       "    <tr>\n",
       "      <th>9</th>\n",
       "      <td>Martin Scorsese</td>\n",
       "      <td>Passenger Watching Silhouette</td>\n",
       "      <td>ACTOR</td>\n",
       "      <td>Taxi Driver</td>\n",
       "      <td>MOVIE</td>\n",
       "      <td>1976</td>\n",
       "      <td>['drama', 'crime']</td>\n",
       "      <td>8.2</td>\n",
       "      <td>808582.0</td>\n",
       "    </tr>\n",
       "  </tbody>\n",
       "</table>\n",
       "</div>"
      ],
      "text/plain": [
       "              name                      Character   r0le        TITLE   Type  \\\n",
       "0   Robert De Niro                  Travis Bickle  ACTOR  Taxi Driver  MOVIE   \n",
       "1     Jodie Foster                  Iris Steensma  ACTOR  Taxi Driver  MOVIE   \n",
       "2    Albert Brooks                            Tom  ACTOR  Taxi Driver  MOVIE   \n",
       "3    Harvey Keitel        Matthew 'Sport' Higgins  ACTOR  Taxi Driver  MOVIE   \n",
       "4  Cybill Shepherd                          Betsy  ACTOR  Taxi Driver  MOVIE   \n",
       "5      Peter Boyle                         Wizard  ACTOR  Taxi Driver  MOVIE   \n",
       "6   Leonard Harris      Senator Charles Palantine  ACTOR  Taxi Driver  MOVIE   \n",
       "7   Diahnne Abbott                Concession Girl  ACTOR  Taxi Driver  MOVIE   \n",
       "8      Gino Ardito             Policeman at Rally  ACTOR  Taxi Driver  MOVIE   \n",
       "9  Martin Scorsese  Passenger Watching Silhouette  ACTOR  Taxi Driver  MOVIE   \n",
       "\n",
       "   release Year              genres  imdb sc0re  imdb v0tes  \n",
       "0          1976  ['drama', 'crime']         8.2    808582.0  \n",
       "1          1976  ['drama', 'crime']         8.2    808582.0  \n",
       "2          1976  ['drama', 'crime']         8.2    808582.0  \n",
       "3          1976  ['drama', 'crime']         8.2    808582.0  \n",
       "4          1976  ['drama', 'crime']         8.2    808582.0  \n",
       "5          1976  ['drama', 'crime']         8.2    808582.0  \n",
       "6          1976  ['drama', 'crime']         8.2    808582.0  \n",
       "7          1976  ['drama', 'crime']         8.2    808582.0  \n",
       "8          1976  ['drama', 'crime']         8.2    808582.0  \n",
       "9          1976  ['drama', 'crime']         8.2    808582.0  "
      ]
     },
     "execution_count": 14,
     "metadata": {},
     "output_type": "execute_result"
    }
   ],
   "source": [
    "df.head(10) # obtaining the first 10 rows from the df table\n"
   ]
  },
  {
   "cell_type": "markdown",
   "id": "e579aa91",
   "metadata": {},
   "source": [
    "Obtain the general information about the table with one command:"
   ]
  },
  {
   "cell_type": "code",
   "execution_count": 15,
   "id": "7bf66d2a",
   "metadata": {
    "trusted": false
   },
   "outputs": [
    {
     "name": "stdout",
     "output_type": "stream",
     "text": [
      "<class 'pandas.core.frame.DataFrame'>\n",
      "RangeIndex: 85579 entries, 0 to 85578\n",
      "Data columns (total 9 columns):\n",
      " #   Column        Non-Null Count  Dtype  \n",
      "---  ------        --------------  -----  \n",
      " 0      name       85579 non-null  object \n",
      " 1   Character     85579 non-null  object \n",
      " 2   r0le          85579 non-null  object \n",
      " 3   TITLE         85578 non-null  object \n",
      " 4     Type        85579 non-null  object \n",
      " 5   release Year  85579 non-null  int64  \n",
      " 6   genres        85579 non-null  object \n",
      " 7   imdb sc0re    80970 non-null  float64\n",
      " 8   imdb v0tes    80853 non-null  float64\n",
      "dtypes: float64(2), int64(1), object(6)\n",
      "memory usage: 5.9+ MB\n"
     ]
    }
   ],
   "source": [
    "# obtaining general information about the data in df\n",
    "df.info()"
   ]
  },
  {
   "cell_type": "markdown",
   "id": "e91f62a7",
   "metadata": {},
   "source": [
    "The table contains nine columns. The majority store the same data type: object. The only exceptions are `'release Year'` (int64 type), `'imdb sc0re'` (float64 type) and `'imdb v0tes'` (float64 type). Scores and votes will be used in our analysis, so it's important to verify that they are present in the dataframe in the appropriate numeric format. Three columns (`'TITLE'`, `'imdb sc0re'` and `'imdb v0tes'`) have missing values.\n",
    "\n",
    "According to the documentation:\n",
    "- `'name'` — actor/director's name and last name\n",
    "- `'Character'` — character played (for actors)\n",
    "- `'r0le '` — the person's contribution to the title (it can be in the capacity of either actor or director)\n",
    "- `'TITLE '` — title of the movie (show)\n",
    "- `'  Type'` — show or movie\n",
    "- `'release Year'` — year when movie (show) was released\n",
    "- `'genres'` — list of genres under which the movie (show) falls\n",
    "- `'imdb sc0re'` — score on IMDb\n",
    "- `'imdb v0tes'` — votes on IMDb\n",
    "\n",
    "We can see three issues with the column names:\n",
    "1. Some names are uppercase, while others are lowercase.\n",
    "2. There are names containing whitespace.\n",
    "3. A few column names have digit '0' instead of letter 'o'. \n"
   ]
  },
  {
   "cell_type": "markdown",
   "id": "4355de7b",
   "metadata": {},
   "source": [
    "### Conclusions <a id='data_review_conclusions'></a> \n",
    "\n",
    "Each row in the table stores data about a movie or show. The columns can be divided into two categories: the first is about the roles held by different people who worked on the movie or show (role, name of the actor or director, and character if the row is about an actor); the second category is information about the movie or show itself (title, release year, genre, imdb figures).\n",
    "\n",
    "It's clear that there is sufficient data to do the analysis and evaluate our assumption. However, to move forward, we need to preprocess the data."
   ]
  },
  {
   "cell_type": "markdown",
   "id": "c5dc9111",
   "metadata": {},
   "source": [
    "## Stage 2. Data preprocessing <a id='data_preprocessing'></a>\n",
    "Correct the formatting in the column headers and deal with the missing values. Then, check whether there are duplicates in the data."
   ]
  },
  {
   "cell_type": "code",
   "execution_count": 16,
   "id": "9c850d13",
   "metadata": {
    "trusted": false
   },
   "outputs": [
    {
     "name": "stdout",
     "output_type": "stream",
     "text": [
      "Index(['   name', 'Character', 'r0le', 'TITLE', '  Type', 'release Year',\n",
      "       'genres', 'imdb sc0re', 'imdb v0tes'],\n",
      "      dtype='object')\n"
     ]
    }
   ],
   "source": [
    "# the list of column names in the df table\n",
    "print(df.columns)"
   ]
  },
  {
   "cell_type": "markdown",
   "id": "5f966df9",
   "metadata": {},
   "source": [
    "Change the column names according to the rules of good style:\n",
    "* If the name has several words, use snake_case\n",
    "* All characters must be lowercase\n",
    "* Remove whitespace\n",
    "* Replace zero with letter 'o'"
   ]
  },
  {
   "cell_type": "code",
   "execution_count": 17,
   "id": "23a1dc11",
   "metadata": {
    "trusted": false
   },
   "outputs": [],
   "source": [
    "# renaming columns\n",
    "df = df.rename( # renaming columns\n",
    "    columns={\n",
    "        '   name': 'name',\n",
    "        'Character': 'character',\n",
    "        'r0le': 'role',\n",
    "        'TITLE': 'title',\n",
    "        '  Type': 'type',\n",
    "        'release Year': 'release_year',\n",
    "        'imdb sc0re': 'imdb_score',\n",
    "        'imdb v0tes': 'imdb_votes',\n",
    "    }\n",
    ")"
   ]
  },
  {
   "cell_type": "markdown",
   "id": "464fbd04",
   "metadata": {},
   "source": [
    "Check the result. Print the names of the columns once more:"
   ]
  },
  {
   "cell_type": "code",
   "execution_count": 18,
   "id": "0eb6527f",
   "metadata": {
    "trusted": false
   },
   "outputs": [
    {
     "name": "stdout",
     "output_type": "stream",
     "text": [
      "Index(['name', 'character', 'role', 'title', 'type', 'release_year', 'genres',\n",
      "       'imdb_score', 'imdb_votes'],\n",
      "      dtype='object')\n"
     ]
    }
   ],
   "source": [
    "# checking result: the list of column names\n",
    "print(df.columns)"
   ]
  },
  {
   "cell_type": "markdown",
   "id": "14d9c319",
   "metadata": {},
   "source": [
    "### Missing values <a id='missing_values'></a>\n",
    "First, find the number of missing values in the table. To do so, combine two `pandas` methods:"
   ]
  },
  {
   "cell_type": "code",
   "execution_count": 19,
   "id": "21c427f2",
   "metadata": {
    "trusted": false
   },
   "outputs": [
    {
     "name": "stdout",
     "output_type": "stream",
     "text": [
      "name               0\n",
      "character          0\n",
      "role               0\n",
      "title              1\n",
      "type               0\n",
      "release_year       0\n",
      "genres             0\n",
      "imdb_score      4609\n",
      "imdb_votes      4726\n",
      "dtype: int64\n"
     ]
    }
   ],
   "source": [
    "# calculating missing values\n",
    "print(df.isna().sum())"
   ]
  },
  {
   "cell_type": "markdown",
   "id": "c8272df3",
   "metadata": {},
   "source": [
    "We identified missing values in several columns. While the missing value in `'title'` isn't critical, missing values in `'imdb_score'` and `'imdb_votes'` affect around 6% of the data, which could impact our analysis. To ensure data integrity, we'll drop all rows with missing values."
   ]
  },
  {
   "cell_type": "code",
   "execution_count": 20,
   "id": "599d5550",
   "metadata": {
    "trusted": false
   },
   "outputs": [],
   "source": [
    "# dropping rows where columns with scores, and votes have missing values\n",
    "df = df.dropna()"
   ]
  },
  {
   "cell_type": "markdown",
   "id": "2156887f",
   "metadata": {},
   "source": [
    "Make sure the table doesn't contain any more missing values. Count the missing values again."
   ]
  },
  {
   "cell_type": "code",
   "execution_count": 21,
   "id": "55c0b0ce",
   "metadata": {
    "trusted": false
   },
   "outputs": [
    {
     "name": "stdout",
     "output_type": "stream",
     "text": [
      "name            0\n",
      "character       0\n",
      "role            0\n",
      "title           0\n",
      "type            0\n",
      "release_year    0\n",
      "genres          0\n",
      "imdb_score      0\n",
      "imdb_votes      0\n",
      "dtype: int64\n"
     ]
    }
   ],
   "source": [
    "# counting missing values\n",
    "print(df.isna().sum())"
   ]
  },
  {
   "cell_type": "markdown",
   "id": "a7dc7aa0",
   "metadata": {},
   "source": [
    "### Duplicates <a id='duplicates'></a>\n",
    "Find the number of duplicate rows in the table using one command:"
   ]
  },
  {
   "cell_type": "code",
   "execution_count": 22,
   "id": "9227df01",
   "metadata": {
    "trusted": false
   },
   "outputs": [
    {
     "name": "stdout",
     "output_type": "stream",
     "text": [
      "6994\n"
     ]
    }
   ],
   "source": [
    "# counting duplicate rows\n",
    "print(df.duplicated().sum ())"
   ]
  },
  {
   "cell_type": "markdown",
   "id": "5f6eb0fc",
   "metadata": {},
   "source": [
    "Review the duplicate rows to determine if removing them would distort our dataset."
   ]
  },
  {
   "cell_type": "code",
   "execution_count": 23,
   "id": "bcf32fcb",
   "metadata": {
    "trusted": false
   },
   "outputs": [
    {
     "data": {
      "text/html": [
       "<div>\n",
       "<style scoped>\n",
       "    .dataframe tbody tr th:only-of-type {\n",
       "        vertical-align: middle;\n",
       "    }\n",
       "\n",
       "    .dataframe tbody tr th {\n",
       "        vertical-align: top;\n",
       "    }\n",
       "\n",
       "    .dataframe thead th {\n",
       "        text-align: right;\n",
       "    }\n",
       "</style>\n",
       "<table border=\"1\" class=\"dataframe\">\n",
       "  <thead>\n",
       "    <tr style=\"text-align: right;\">\n",
       "      <th></th>\n",
       "      <th>name</th>\n",
       "      <th>character</th>\n",
       "      <th>role</th>\n",
       "      <th>title</th>\n",
       "      <th>type</th>\n",
       "      <th>release_year</th>\n",
       "      <th>genres</th>\n",
       "      <th>imdb_score</th>\n",
       "      <th>imdb_votes</th>\n",
       "    </tr>\n",
       "  </thead>\n",
       "  <tbody>\n",
       "    <tr>\n",
       "      <th>7560</th>\n",
       "      <td>Philip Greene</td>\n",
       "      <td>Baseball Fan (uncredited)</td>\n",
       "      <td>ACTOR</td>\n",
       "      <td>How Do You Know</td>\n",
       "      <td>MOVIE</td>\n",
       "      <td>2010</td>\n",
       "      <td>['comedy', 'drama', 'romance']</td>\n",
       "      <td>5.4</td>\n",
       "      <td>50383.0</td>\n",
       "    </tr>\n",
       "    <tr>\n",
       "      <th>7561</th>\n",
       "      <td>Philip Greene</td>\n",
       "      <td>Baseball Fan (uncredited)</td>\n",
       "      <td>ACTOR</td>\n",
       "      <td>How Do You Know</td>\n",
       "      <td>MOVIE</td>\n",
       "      <td>2010</td>\n",
       "      <td>['comedy', 'drama', 'romance']</td>\n",
       "      <td>5.4</td>\n",
       "      <td>50383.0</td>\n",
       "    </tr>\n",
       "    <tr>\n",
       "      <th>14502</th>\n",
       "      <td>Dan Levy</td>\n",
       "      <td>Reporter</td>\n",
       "      <td>ACTOR</td>\n",
       "      <td>A Very Harold &amp; Kumar Christmas</td>\n",
       "      <td>MOVIE</td>\n",
       "      <td>2011</td>\n",
       "      <td>['comedy', 'fantasy', 'romance']</td>\n",
       "      <td>6.2</td>\n",
       "      <td>69562.0</td>\n",
       "    </tr>\n",
       "    <tr>\n",
       "      <th>14512</th>\n",
       "      <td>Dan Levy</td>\n",
       "      <td>Reporter</td>\n",
       "      <td>ACTOR</td>\n",
       "      <td>A Very Harold &amp; Kumar Christmas</td>\n",
       "      <td>MOVIE</td>\n",
       "      <td>2011</td>\n",
       "      <td>['comedy', 'fantasy', 'romance']</td>\n",
       "      <td>6.2</td>\n",
       "      <td>69562.0</td>\n",
       "    </tr>\n",
       "    <tr>\n",
       "      <th>18951</th>\n",
       "      <td>Nicolas Le Nev??</td>\n",
       "      <td>unknown</td>\n",
       "      <td>DIRECTOR</td>\n",
       "      <td>Sammy &amp; Co</td>\n",
       "      <td>SHOW</td>\n",
       "      <td>2014</td>\n",
       "      <td>['animation', 'european']</td>\n",
       "      <td>5.7</td>\n",
       "      <td>31.0</td>\n",
       "    </tr>\n",
       "    <tr>\n",
       "      <th>...</th>\n",
       "      <td>...</td>\n",
       "      <td>...</td>\n",
       "      <td>...</td>\n",
       "      <td>...</td>\n",
       "      <td>...</td>\n",
       "      <td>...</td>\n",
       "      <td>...</td>\n",
       "      <td>...</td>\n",
       "      <td>...</td>\n",
       "    </tr>\n",
       "    <tr>\n",
       "      <th>85569</th>\n",
       "      <td>Jessica Cediel</td>\n",
       "      <td>Liliana Navarro</td>\n",
       "      <td>ACTOR</td>\n",
       "      <td>Lokillo</td>\n",
       "      <td>MOVIE</td>\n",
       "      <td>2021</td>\n",
       "      <td>['comedy']</td>\n",
       "      <td>3.8</td>\n",
       "      <td>68.0</td>\n",
       "    </tr>\n",
       "    <tr>\n",
       "      <th>85570</th>\n",
       "      <td>Javier Gardeaz?­bal</td>\n",
       "      <td>Agust??n \"Peluca\" Ort??z</td>\n",
       "      <td>ACTOR</td>\n",
       "      <td>Lokillo</td>\n",
       "      <td>MOVIE</td>\n",
       "      <td>2021</td>\n",
       "      <td>['comedy']</td>\n",
       "      <td>3.8</td>\n",
       "      <td>68.0</td>\n",
       "    </tr>\n",
       "    <tr>\n",
       "      <th>85571</th>\n",
       "      <td>Carla Giraldo</td>\n",
       "      <td>Valery Reinoso</td>\n",
       "      <td>ACTOR</td>\n",
       "      <td>Lokillo</td>\n",
       "      <td>MOVIE</td>\n",
       "      <td>2021</td>\n",
       "      <td>['comedy']</td>\n",
       "      <td>3.8</td>\n",
       "      <td>68.0</td>\n",
       "    </tr>\n",
       "    <tr>\n",
       "      <th>85572</th>\n",
       "      <td>Ana Mar??a S?­nchez</td>\n",
       "      <td>Lourdes</td>\n",
       "      <td>ACTOR</td>\n",
       "      <td>Lokillo</td>\n",
       "      <td>MOVIE</td>\n",
       "      <td>2021</td>\n",
       "      <td>['comedy']</td>\n",
       "      <td>3.8</td>\n",
       "      <td>68.0</td>\n",
       "    </tr>\n",
       "    <tr>\n",
       "      <th>85577</th>\n",
       "      <td>Isabel Gaona</td>\n",
       "      <td>Cacica</td>\n",
       "      <td>ACTOR</td>\n",
       "      <td>Lokillo</td>\n",
       "      <td>MOVIE</td>\n",
       "      <td>2021</td>\n",
       "      <td>['comedy']</td>\n",
       "      <td>3.8</td>\n",
       "      <td>68.0</td>\n",
       "    </tr>\n",
       "  </tbody>\n",
       "</table>\n",
       "<p>13988 rows × 9 columns</p>\n",
       "</div>"
      ],
      "text/plain": [
       "                      name                  character      role  \\\n",
       "7560         Philip Greene  Baseball Fan (uncredited)     ACTOR   \n",
       "7561         Philip Greene  Baseball Fan (uncredited)     ACTOR   \n",
       "14502             Dan Levy                   Reporter     ACTOR   \n",
       "14512             Dan Levy                   Reporter     ACTOR   \n",
       "18951     Nicolas Le Nev??                    unknown  DIRECTOR   \n",
       "...                    ...                        ...       ...   \n",
       "85569       Jessica Cediel            Liliana Navarro     ACTOR   \n",
       "85570  Javier Gardeaz?­bal   Agust??n \"Peluca\" Ort??z     ACTOR   \n",
       "85571        Carla Giraldo             Valery Reinoso     ACTOR   \n",
       "85572  Ana Mar??a S?­nchez                    Lourdes     ACTOR   \n",
       "85577         Isabel Gaona                     Cacica     ACTOR   \n",
       "\n",
       "                                 title   type  release_year  \\\n",
       "7560                   How Do You Know  MOVIE          2010   \n",
       "7561                   How Do You Know  MOVIE          2010   \n",
       "14502  A Very Harold & Kumar Christmas  MOVIE          2011   \n",
       "14512  A Very Harold & Kumar Christmas  MOVIE          2011   \n",
       "18951                       Sammy & Co   SHOW          2014   \n",
       "...                                ...    ...           ...   \n",
       "85569                          Lokillo  MOVIE          2021   \n",
       "85570                          Lokillo  MOVIE          2021   \n",
       "85571                          Lokillo  MOVIE          2021   \n",
       "85572                          Lokillo  MOVIE          2021   \n",
       "85577                          Lokillo  MOVIE          2021   \n",
       "\n",
       "                                 genres  imdb_score  imdb_votes  \n",
       "7560     ['comedy', 'drama', 'romance']         5.4     50383.0  \n",
       "7561     ['comedy', 'drama', 'romance']         5.4     50383.0  \n",
       "14502  ['comedy', 'fantasy', 'romance']         6.2     69562.0  \n",
       "14512  ['comedy', 'fantasy', 'romance']         6.2     69562.0  \n",
       "18951         ['animation', 'european']         5.7        31.0  \n",
       "...                                 ...         ...         ...  \n",
       "85569                        ['comedy']         3.8        68.0  \n",
       "85570                        ['comedy']         3.8        68.0  \n",
       "85571                        ['comedy']         3.8        68.0  \n",
       "85572                        ['comedy']         3.8        68.0  \n",
       "85577                        ['comedy']         3.8        68.0  \n",
       "\n",
       "[13988 rows x 9 columns]"
      ]
     },
     "execution_count": 23,
     "metadata": {},
     "output_type": "execute_result"
    }
   ],
   "source": [
    "# Produce table with duplicates (with original rows included) and review last 5 rows\n",
    "duplicates = df[df.duplicated(keep=False)]\n",
    "\n",
    "duplicates#.tail()"
   ]
  },
  {
   "cell_type": "markdown",
   "id": "a1ed6640",
   "metadata": {},
   "source": [
    "There are two clear duplicates in the printed rows. We can safely remove them.\n",
    "Call the `pandas` method for getting rid of duplicate rows:"
   ]
  },
  {
   "cell_type": "code",
   "execution_count": 24,
   "id": "724d5bc8",
   "metadata": {
    "trusted": false
   },
   "outputs": [],
   "source": [
    "# removing duplicate rows\n",
    "df = df.drop_duplicates()"
   ]
  },
  {
   "cell_type": "markdown",
   "id": "fc8c77ba",
   "metadata": {},
   "source": [
    "Check for duplicate rows once more to make sure you have removed all of them:"
   ]
  },
  {
   "cell_type": "code",
   "execution_count": 25,
   "id": "8091a9bc",
   "metadata": {
    "trusted": false
   },
   "outputs": [
    {
     "name": "stdout",
     "output_type": "stream",
     "text": [
      "0\n"
     ]
    }
   ],
   "source": [
    "# checking for duplicates\n",
    "print(df.duplicated().sum())"
   ]
  },
  {
   "cell_type": "markdown",
   "id": "1d802b07",
   "metadata": {},
   "source": [
    "Now get rid of implicit duplicates in the `'type'` column. For example, the string `'SHOW'` can be written in different ways. These kinds of errors will also affect the result."
   ]
  },
  {
   "cell_type": "markdown",
   "id": "d5f987ed",
   "metadata": {},
   "source": [
    "Print a list of unique `'type'` names, sorted in alphabetical order. To do so:\n",
    "* Retrieve the intended dataframe column \n",
    "* Apply a sorting method to it\n",
    "* For the sorted column, call the method that will return all unique column values"
   ]
  },
  {
   "cell_type": "code",
   "execution_count": 26,
   "id": "3d7b0ac5",
   "metadata": {
    "trusted": false
   },
   "outputs": [
    {
     "name": "stdout",
     "output_type": "stream",
     "text": [
      "['MOVIE' 'SHOW' 'movies' 'shows' 'the movie' 'tv' 'tv series' 'tv show'\n",
      " 'tv shows']\n"
     ]
    }
   ],
   "source": [
    "# viewing unique type names\n",
    "type_names = df['type']\n",
    "type_names = type_names.sort_values()\n",
    "print(type_names.unique()) "
   ]
  },
  {
   "cell_type": "markdown",
   "id": "ac6e8b18",
   "metadata": {},
   "source": [
    "Look through the list to find implicit duplicates of `'show'` (`'movie'` duplicates will be ignored since the assumption is about shows). These could be names written incorrectly or alternative names of the same genre.\n",
    "\n",
    "You will see the following implicit duplicates:\n",
    "* `'shows'`\n",
    "* `'SHOW'`\n",
    "* `'tv show'`\n",
    "* `'tv shows'`\n",
    "* `'tv series'`\n",
    "* `'tv'`\n",
    "\n",
    "To get rid of them, declare the function `replace_wrong_show()` with two parameters: \n",
    "* `wrong_shows_list=` — the list of duplicates\n",
    "* `correct_show=` — the string with the correct value\n",
    "\n",
    "The function should correct the names in the `'type'` column from the `df` table (i.e., replace each value from the `wrong_shows_list` list with the value in `correct_show`)."
   ]
  },
  {
   "cell_type": "code",
   "execution_count": 27,
   "id": "bff944f9",
   "metadata": {
    "trusted": false
   },
   "outputs": [],
   "source": [
    "# function for replacing implicit duplicates\n",
    "def replace_wrong_show(df, wrong_shows_list, correct_show):\n",
    "    df['type'] = df['type'].replace(wrong_shows_list, correct_show)\n",
    "    return df\n",
    "    "
   ]
  },
  {
   "cell_type": "markdown",
   "id": "d02d13a6",
   "metadata": {},
   "source": [
    "Call `replace_wrong_show()` and pass it arguments so that it clears implicit duplicates and replaces them with `SHOW`:"
   ]
  },
  {
   "cell_type": "code",
   "execution_count": 28,
   "id": "a2217e53",
   "metadata": {
    "trusted": false
   },
   "outputs": [],
   "source": [
    "# removing implicit duplicates\n",
    "wrong_shows_list = ['shows', 'tv', 'tv series', 'tv show','tv shows']\n",
    "correct_show = 'SHOW'\n",
    "df = replace_wrong_show(df, wrong_shows_list, correct_show)"
   ]
  },
  {
   "cell_type": "markdown",
   "id": "318b09f7",
   "metadata": {},
   "source": [
    "Make sure the duplicate names are removed. Print the list of unique values from the `'type'` column:"
   ]
  },
  {
   "cell_type": "code",
   "execution_count": 29,
   "id": "25d49d73",
   "metadata": {
    "trusted": false
   },
   "outputs": [
    {
     "name": "stdout",
     "output_type": "stream",
     "text": [
      "['MOVIE' 'the movie' 'SHOW' 'movies']\n"
     ]
    }
   ],
   "source": [
    "# viewing unique genre names\n",
    "print(df['type'].unique())"
   ]
  },
  {
   "cell_type": "markdown",
   "id": "18b2049e",
   "metadata": {},
   "source": [
    "### Conclusions <a id='data_preprocessing_conclusions'></a>\n",
    "We detected three issues with the data:\n",
    "\n",
    "- Incorrect header styles\n",
    "- Missing values\n",
    "- Duplicate rows and implicit duplicates\n",
    "\n",
    "The headers have been cleaned up to make processing the table simpler.\n",
    "\n",
    "All rows with missing values have been removed. \n",
    "\n",
    "The absence of duplicates will make the results more precise and easier to understand.\n",
    "\n",
    "Now we can move on to our analysis of the prepared data."
   ]
  },
  {
   "cell_type": "markdown",
   "id": "1aa0f1b1",
   "metadata": {},
   "source": [
    "## Stage 3. Data analysis <a id='hypotheses'></a>"
   ]
  },
  {
   "cell_type": "markdown",
   "id": "f8fb6a0e",
   "metadata": {},
   "source": [
    "Based on the previous project stages, I can now define how the assumption will be checked. Calculate the average amount of votes for each score (this data is available in the `imdb_score` and `imdb_votes` columns), and then check how these averages relate to each other. If the averages for shows with the highest scores are bigger than those for shows with lower scores, the assumption appears to be true.\n",
    "\n",
    "Based on this, complete the following steps:\n",
    "\n",
    "- Filter the dataframe to only include shows released in 1999 or later.\n",
    "- Group scores into buckets by rounding the values of the appropriate column (a set of 1-10 integers will help us make the outcome of our calculations more evident without damaging the quality of our research).\n",
    "- Identify outliers among scores based on their number of votes, and exclude scores with few votes.\n",
    "- Calculate the average votes for each score and check whether the assumption matches the results."
   ]
  },
  {
   "cell_type": "markdown",
   "id": "0ea2cb51",
   "metadata": {},
   "source": [
    "To filter the dataframe and only include shows released in 1999 or later, I will take two steps. First, keep only titles published in 1999 or later in our dataframe. Then, filter the table to only contain shows (movies will be removed)."
   ]
  },
  {
   "cell_type": "code",
   "execution_count": 30,
   "id": "6a704aa1",
   "metadata": {
    "trusted": false
   },
   "outputs": [
    {
     "data": {
      "text/html": [
       "<div>\n",
       "<style scoped>\n",
       "    .dataframe tbody tr th:only-of-type {\n",
       "        vertical-align: middle;\n",
       "    }\n",
       "\n",
       "    .dataframe tbody tr th {\n",
       "        vertical-align: top;\n",
       "    }\n",
       "\n",
       "    .dataframe thead th {\n",
       "        text-align: right;\n",
       "    }\n",
       "</style>\n",
       "<table border=\"1\" class=\"dataframe\">\n",
       "  <thead>\n",
       "    <tr style=\"text-align: right;\">\n",
       "      <th></th>\n",
       "      <th>name</th>\n",
       "      <th>character</th>\n",
       "      <th>role</th>\n",
       "      <th>title</th>\n",
       "      <th>type</th>\n",
       "      <th>release_year</th>\n",
       "      <th>genres</th>\n",
       "      <th>imdb_score</th>\n",
       "      <th>imdb_votes</th>\n",
       "    </tr>\n",
       "  </thead>\n",
       "  <tbody>\n",
       "    <tr>\n",
       "      <th>1664</th>\n",
       "      <td>Jeff Probst</td>\n",
       "      <td>Himself - Host</td>\n",
       "      <td>ACTOR</td>\n",
       "      <td>Survivor</td>\n",
       "      <td>SHOW</td>\n",
       "      <td>2000</td>\n",
       "      <td>['reality']</td>\n",
       "      <td>7.4</td>\n",
       "      <td>24687.0</td>\n",
       "    </tr>\n",
       "    <tr>\n",
       "      <th>1955</th>\n",
       "      <td>Benicio del Toro</td>\n",
       "      <td>Franky Four Fingers</td>\n",
       "      <td>ACTOR</td>\n",
       "      <td>Snatch</td>\n",
       "      <td>MOVIE</td>\n",
       "      <td>2000</td>\n",
       "      <td>['crime', 'comedy']</td>\n",
       "      <td>8.3</td>\n",
       "      <td>841435.0</td>\n",
       "    </tr>\n",
       "    <tr>\n",
       "      <th>1956</th>\n",
       "      <td>Dennis Farina</td>\n",
       "      <td>Cousin Avi</td>\n",
       "      <td>ACTOR</td>\n",
       "      <td>Snatch</td>\n",
       "      <td>MOVIE</td>\n",
       "      <td>2000</td>\n",
       "      <td>['crime', 'comedy']</td>\n",
       "      <td>8.3</td>\n",
       "      <td>841435.0</td>\n",
       "    </tr>\n",
       "    <tr>\n",
       "      <th>1957</th>\n",
       "      <td>Vinnie Jones</td>\n",
       "      <td>Bullet Tooth Tony</td>\n",
       "      <td>ACTOR</td>\n",
       "      <td>Snatch</td>\n",
       "      <td>MOVIE</td>\n",
       "      <td>2000</td>\n",
       "      <td>['crime', 'comedy']</td>\n",
       "      <td>8.3</td>\n",
       "      <td>841435.0</td>\n",
       "    </tr>\n",
       "    <tr>\n",
       "      <th>1958</th>\n",
       "      <td>Brad Pitt</td>\n",
       "      <td>Mickey O'Neil</td>\n",
       "      <td>ACTOR</td>\n",
       "      <td>Snatch</td>\n",
       "      <td>MOVIE</td>\n",
       "      <td>2000</td>\n",
       "      <td>['crime', 'comedy']</td>\n",
       "      <td>8.3</td>\n",
       "      <td>841435.0</td>\n",
       "    </tr>\n",
       "    <tr>\n",
       "      <th>...</th>\n",
       "      <td>...</td>\n",
       "      <td>...</td>\n",
       "      <td>...</td>\n",
       "      <td>...</td>\n",
       "      <td>...</td>\n",
       "      <td>...</td>\n",
       "      <td>...</td>\n",
       "      <td>...</td>\n",
       "      <td>...</td>\n",
       "    </tr>\n",
       "    <tr>\n",
       "      <th>85573</th>\n",
       "      <td>A??da Morales</td>\n",
       "      <td>Maritza</td>\n",
       "      <td>ACTOR</td>\n",
       "      <td>Lokillo</td>\n",
       "      <td>the movie</td>\n",
       "      <td>2021</td>\n",
       "      <td>['comedy']</td>\n",
       "      <td>3.8</td>\n",
       "      <td>68.0</td>\n",
       "    </tr>\n",
       "    <tr>\n",
       "      <th>85574</th>\n",
       "      <td>Adelaida Buscato</td>\n",
       "      <td>Mar??a Paz</td>\n",
       "      <td>ACTOR</td>\n",
       "      <td>Lokillo</td>\n",
       "      <td>the movie</td>\n",
       "      <td>2021</td>\n",
       "      <td>['comedy']</td>\n",
       "      <td>3.8</td>\n",
       "      <td>68.0</td>\n",
       "    </tr>\n",
       "    <tr>\n",
       "      <th>85575</th>\n",
       "      <td>Luz Stella Luengas</td>\n",
       "      <td>Karen Bayona</td>\n",
       "      <td>ACTOR</td>\n",
       "      <td>Lokillo</td>\n",
       "      <td>the movie</td>\n",
       "      <td>2021</td>\n",
       "      <td>['comedy']</td>\n",
       "      <td>3.8</td>\n",
       "      <td>68.0</td>\n",
       "    </tr>\n",
       "    <tr>\n",
       "      <th>85576</th>\n",
       "      <td>In??s Prieto</td>\n",
       "      <td>Fanny</td>\n",
       "      <td>ACTOR</td>\n",
       "      <td>Lokillo</td>\n",
       "      <td>the movie</td>\n",
       "      <td>2021</td>\n",
       "      <td>['comedy']</td>\n",
       "      <td>3.8</td>\n",
       "      <td>68.0</td>\n",
       "    </tr>\n",
       "    <tr>\n",
       "      <th>85578</th>\n",
       "      <td>Julian Gaviria</td>\n",
       "      <td>unknown</td>\n",
       "      <td>DIRECTOR</td>\n",
       "      <td>Lokillo</td>\n",
       "      <td>the movie</td>\n",
       "      <td>2021</td>\n",
       "      <td>['comedy']</td>\n",
       "      <td>3.8</td>\n",
       "      <td>68.0</td>\n",
       "    </tr>\n",
       "  </tbody>\n",
       "</table>\n",
       "<p>69881 rows × 9 columns</p>\n",
       "</div>"
      ],
      "text/plain": [
       "                     name            character      role     title       type  \\\n",
       "1664          Jeff Probst       Himself - Host     ACTOR  Survivor       SHOW   \n",
       "1955     Benicio del Toro  Franky Four Fingers     ACTOR    Snatch      MOVIE   \n",
       "1956        Dennis Farina           Cousin Avi     ACTOR    Snatch      MOVIE   \n",
       "1957         Vinnie Jones    Bullet Tooth Tony     ACTOR    Snatch      MOVIE   \n",
       "1958            Brad Pitt        Mickey O'Neil     ACTOR    Snatch      MOVIE   \n",
       "...                   ...                  ...       ...       ...        ...   \n",
       "85573       A??da Morales              Maritza     ACTOR   Lokillo  the movie   \n",
       "85574    Adelaida Buscato           Mar??a Paz     ACTOR   Lokillo  the movie   \n",
       "85575  Luz Stella Luengas         Karen Bayona     ACTOR   Lokillo  the movie   \n",
       "85576        In??s Prieto                Fanny     ACTOR   Lokillo  the movie   \n",
       "85578      Julian Gaviria              unknown  DIRECTOR   Lokillo  the movie   \n",
       "\n",
       "       release_year               genres  imdb_score  imdb_votes  \n",
       "1664           2000          ['reality']         7.4     24687.0  \n",
       "1955           2000  ['crime', 'comedy']         8.3    841435.0  \n",
       "1956           2000  ['crime', 'comedy']         8.3    841435.0  \n",
       "1957           2000  ['crime', 'comedy']         8.3    841435.0  \n",
       "1958           2000  ['crime', 'comedy']         8.3    841435.0  \n",
       "...             ...                  ...         ...         ...  \n",
       "85573          2021           ['comedy']         3.8        68.0  \n",
       "85574          2021           ['comedy']         3.8        68.0  \n",
       "85575          2021           ['comedy']         3.8        68.0  \n",
       "85576          2021           ['comedy']         3.8        68.0  \n",
       "85578          2021           ['comedy']         3.8        68.0  \n",
       "\n",
       "[69881 rows x 9 columns]"
      ]
     },
     "execution_count": 30,
     "metadata": {},
     "output_type": "execute_result"
    }
   ],
   "source": [
    "# using conditional indexing modify df so it has only titles released after 1999 (with 1999 included)\n",
    "# give the slice of dataframe new name\n",
    "golden_age = df[df['release_year'] >= 1999]\n",
    "golden_age"
   ]
  },
  {
   "cell_type": "code",
   "execution_count": 31,
   "id": "128dc6a9",
   "metadata": {
    "scrolled": false,
    "trusted": false
   },
   "outputs": [
    {
     "data": {
      "text/html": [
       "<div>\n",
       "<style scoped>\n",
       "    .dataframe tbody tr th:only-of-type {\n",
       "        vertical-align: middle;\n",
       "    }\n",
       "\n",
       "    .dataframe tbody tr th {\n",
       "        vertical-align: top;\n",
       "    }\n",
       "\n",
       "    .dataframe thead th {\n",
       "        text-align: right;\n",
       "    }\n",
       "</style>\n",
       "<table border=\"1\" class=\"dataframe\">\n",
       "  <thead>\n",
       "    <tr style=\"text-align: right;\">\n",
       "      <th></th>\n",
       "      <th>name</th>\n",
       "      <th>character</th>\n",
       "      <th>role</th>\n",
       "      <th>title</th>\n",
       "      <th>type</th>\n",
       "      <th>release_year</th>\n",
       "      <th>genres</th>\n",
       "      <th>imdb_score</th>\n",
       "      <th>imdb_votes</th>\n",
       "    </tr>\n",
       "  </thead>\n",
       "  <tbody>\n",
       "    <tr>\n",
       "      <th>1664</th>\n",
       "      <td>Jeff Probst</td>\n",
       "      <td>Himself - Host</td>\n",
       "      <td>ACTOR</td>\n",
       "      <td>Survivor</td>\n",
       "      <td>SHOW</td>\n",
       "      <td>2000</td>\n",
       "      <td>['reality']</td>\n",
       "      <td>7.4</td>\n",
       "      <td>24687.0</td>\n",
       "    </tr>\n",
       "    <tr>\n",
       "      <th>2076</th>\n",
       "      <td>Mayumi Tanaka</td>\n",
       "      <td>Monkey D. Luffy (voice)</td>\n",
       "      <td>ACTOR</td>\n",
       "      <td>One Piece</td>\n",
       "      <td>SHOW</td>\n",
       "      <td>1999</td>\n",
       "      <td>['animation', 'action', 'comedy', 'drama', 'fa...</td>\n",
       "      <td>8.8</td>\n",
       "      <td>117129.0</td>\n",
       "    </tr>\n",
       "    <tr>\n",
       "      <th>2077</th>\n",
       "      <td>Kazuya Nakai</td>\n",
       "      <td>Roronoa Zoro (voice)</td>\n",
       "      <td>ACTOR</td>\n",
       "      <td>One Piece</td>\n",
       "      <td>SHOW</td>\n",
       "      <td>1999</td>\n",
       "      <td>['animation', 'action', 'comedy', 'drama', 'fa...</td>\n",
       "      <td>8.8</td>\n",
       "      <td>117129.0</td>\n",
       "    </tr>\n",
       "    <tr>\n",
       "      <th>2078</th>\n",
       "      <td>Akemi Okamura</td>\n",
       "      <td>Nami (voice)</td>\n",
       "      <td>ACTOR</td>\n",
       "      <td>One Piece</td>\n",
       "      <td>SHOW</td>\n",
       "      <td>1999</td>\n",
       "      <td>['animation', 'action', 'comedy', 'drama', 'fa...</td>\n",
       "      <td>8.8</td>\n",
       "      <td>117129.0</td>\n",
       "    </tr>\n",
       "    <tr>\n",
       "      <th>2079</th>\n",
       "      <td>Kappei Yamaguchi</td>\n",
       "      <td>Usopp (voice)</td>\n",
       "      <td>ACTOR</td>\n",
       "      <td>One Piece</td>\n",
       "      <td>SHOW</td>\n",
       "      <td>1999</td>\n",
       "      <td>['animation', 'action', 'comedy', 'drama', 'fa...</td>\n",
       "      <td>8.8</td>\n",
       "      <td>117129.0</td>\n",
       "    </tr>\n",
       "    <tr>\n",
       "      <th>...</th>\n",
       "      <td>...</td>\n",
       "      <td>...</td>\n",
       "      <td>...</td>\n",
       "      <td>...</td>\n",
       "      <td>...</td>\n",
       "      <td>...</td>\n",
       "      <td>...</td>\n",
       "      <td>...</td>\n",
       "      <td>...</td>\n",
       "    </tr>\n",
       "    <tr>\n",
       "      <th>85433</th>\n",
       "      <td>Maneerat Kam-Uan</td>\n",
       "      <td>Ae</td>\n",
       "      <td>ACTOR</td>\n",
       "      <td>Let's Eat</td>\n",
       "      <td>SHOW</td>\n",
       "      <td>2021</td>\n",
       "      <td>['drama', 'comedy']</td>\n",
       "      <td>8.2</td>\n",
       "      <td>5.0</td>\n",
       "    </tr>\n",
       "    <tr>\n",
       "      <th>85434</th>\n",
       "      <td>Rudklao Amratisha</td>\n",
       "      <td>unknown</td>\n",
       "      <td>ACTOR</td>\n",
       "      <td>Let's Eat</td>\n",
       "      <td>SHOW</td>\n",
       "      <td>2021</td>\n",
       "      <td>['drama', 'comedy']</td>\n",
       "      <td>8.2</td>\n",
       "      <td>5.0</td>\n",
       "    </tr>\n",
       "    <tr>\n",
       "      <th>85435</th>\n",
       "      <td>Jaturong Mokjok</td>\n",
       "      <td>unknown</td>\n",
       "      <td>ACTOR</td>\n",
       "      <td>Let's Eat</td>\n",
       "      <td>SHOW</td>\n",
       "      <td>2021</td>\n",
       "      <td>['drama', 'comedy']</td>\n",
       "      <td>8.2</td>\n",
       "      <td>5.0</td>\n",
       "    </tr>\n",
       "    <tr>\n",
       "      <th>85436</th>\n",
       "      <td>Pisamai Wilaisak</td>\n",
       "      <td>unknown</td>\n",
       "      <td>ACTOR</td>\n",
       "      <td>Let's Eat</td>\n",
       "      <td>SHOW</td>\n",
       "      <td>2021</td>\n",
       "      <td>['drama', 'comedy']</td>\n",
       "      <td>8.2</td>\n",
       "      <td>5.0</td>\n",
       "    </tr>\n",
       "    <tr>\n",
       "      <th>85437</th>\n",
       "      <td>Sarawut Wichiensarn</td>\n",
       "      <td>unknown</td>\n",
       "      <td>DIRECTOR</td>\n",
       "      <td>Let's Eat</td>\n",
       "      <td>SHOW</td>\n",
       "      <td>2021</td>\n",
       "      <td>['drama', 'comedy']</td>\n",
       "      <td>8.2</td>\n",
       "      <td>5.0</td>\n",
       "    </tr>\n",
       "  </tbody>\n",
       "</table>\n",
       "<p>13430 rows × 9 columns</p>\n",
       "</div>"
      ],
      "text/plain": [
       "                      name                character      role      title  \\\n",
       "1664           Jeff Probst           Himself - Host     ACTOR   Survivor   \n",
       "2076         Mayumi Tanaka  Monkey D. Luffy (voice)     ACTOR  One Piece   \n",
       "2077          Kazuya Nakai     Roronoa Zoro (voice)     ACTOR  One Piece   \n",
       "2078         Akemi Okamura             Nami (voice)     ACTOR  One Piece   \n",
       "2079      Kappei Yamaguchi            Usopp (voice)     ACTOR  One Piece   \n",
       "...                    ...                      ...       ...        ...   \n",
       "85433     Maneerat Kam-Uan                       Ae     ACTOR  Let's Eat   \n",
       "85434    Rudklao Amratisha                  unknown     ACTOR  Let's Eat   \n",
       "85435      Jaturong Mokjok                  unknown     ACTOR  Let's Eat   \n",
       "85436     Pisamai Wilaisak                  unknown     ACTOR  Let's Eat   \n",
       "85437  Sarawut Wichiensarn                  unknown  DIRECTOR  Let's Eat   \n",
       "\n",
       "       type  release_year                                             genres  \\\n",
       "1664   SHOW          2000                                        ['reality']   \n",
       "2076   SHOW          1999  ['animation', 'action', 'comedy', 'drama', 'fa...   \n",
       "2077   SHOW          1999  ['animation', 'action', 'comedy', 'drama', 'fa...   \n",
       "2078   SHOW          1999  ['animation', 'action', 'comedy', 'drama', 'fa...   \n",
       "2079   SHOW          1999  ['animation', 'action', 'comedy', 'drama', 'fa...   \n",
       "...     ...           ...                                                ...   \n",
       "85433  SHOW          2021                                ['drama', 'comedy']   \n",
       "85434  SHOW          2021                                ['drama', 'comedy']   \n",
       "85435  SHOW          2021                                ['drama', 'comedy']   \n",
       "85436  SHOW          2021                                ['drama', 'comedy']   \n",
       "85437  SHOW          2021                                ['drama', 'comedy']   \n",
       "\n",
       "       imdb_score  imdb_votes  \n",
       "1664          7.4     24687.0  \n",
       "2076          8.8    117129.0  \n",
       "2077          8.8    117129.0  \n",
       "2078          8.8    117129.0  \n",
       "2079          8.8    117129.0  \n",
       "...           ...         ...  \n",
       "85433         8.2         5.0  \n",
       "85434         8.2         5.0  \n",
       "85435         8.2         5.0  \n",
       "85436         8.2         5.0  \n",
       "85437         8.2         5.0  \n",
       "\n",
       "[13430 rows x 9 columns]"
      ]
     },
     "execution_count": 31,
     "metadata": {},
     "output_type": "execute_result"
    }
   ],
   "source": [
    "# repeat conditional indexing so df has only shows (movies are removed as result)\n",
    "golden_age = golden_age[golden_age['type'] == 'SHOW']\n",
    "golden_age"
   ]
  },
  {
   "cell_type": "markdown",
   "id": "9648040c",
   "metadata": {},
   "source": [
    "The scores that are to be grouped should be rounded. For instance, titles with scores like 7.8, 8.1, and 8.3 will all be placed in the same bucket with a score of 8."
   ]
  },
  {
   "cell_type": "code",
   "execution_count": 32,
   "id": "54bbd5c0",
   "metadata": {
    "trusted": false
   },
   "outputs": [
    {
     "data": {
      "text/html": [
       "<div>\n",
       "<style scoped>\n",
       "    .dataframe tbody tr th:only-of-type {\n",
       "        vertical-align: middle;\n",
       "    }\n",
       "\n",
       "    .dataframe tbody tr th {\n",
       "        vertical-align: top;\n",
       "    }\n",
       "\n",
       "    .dataframe thead th {\n",
       "        text-align: right;\n",
       "    }\n",
       "</style>\n",
       "<table border=\"1\" class=\"dataframe\">\n",
       "  <thead>\n",
       "    <tr style=\"text-align: right;\">\n",
       "      <th></th>\n",
       "      <th>name</th>\n",
       "      <th>character</th>\n",
       "      <th>role</th>\n",
       "      <th>title</th>\n",
       "      <th>type</th>\n",
       "      <th>release_year</th>\n",
       "      <th>genres</th>\n",
       "      <th>imdb_score</th>\n",
       "      <th>imdb_votes</th>\n",
       "    </tr>\n",
       "  </thead>\n",
       "  <tbody>\n",
       "    <tr>\n",
       "      <th>85433</th>\n",
       "      <td>Maneerat Kam-Uan</td>\n",
       "      <td>Ae</td>\n",
       "      <td>ACTOR</td>\n",
       "      <td>Let's Eat</td>\n",
       "      <td>SHOW</td>\n",
       "      <td>2021</td>\n",
       "      <td>['drama', 'comedy']</td>\n",
       "      <td>8.2</td>\n",
       "      <td>5.0</td>\n",
       "    </tr>\n",
       "    <tr>\n",
       "      <th>85434</th>\n",
       "      <td>Rudklao Amratisha</td>\n",
       "      <td>unknown</td>\n",
       "      <td>ACTOR</td>\n",
       "      <td>Let's Eat</td>\n",
       "      <td>SHOW</td>\n",
       "      <td>2021</td>\n",
       "      <td>['drama', 'comedy']</td>\n",
       "      <td>8.2</td>\n",
       "      <td>5.0</td>\n",
       "    </tr>\n",
       "    <tr>\n",
       "      <th>85435</th>\n",
       "      <td>Jaturong Mokjok</td>\n",
       "      <td>unknown</td>\n",
       "      <td>ACTOR</td>\n",
       "      <td>Let's Eat</td>\n",
       "      <td>SHOW</td>\n",
       "      <td>2021</td>\n",
       "      <td>['drama', 'comedy']</td>\n",
       "      <td>8.2</td>\n",
       "      <td>5.0</td>\n",
       "    </tr>\n",
       "    <tr>\n",
       "      <th>85436</th>\n",
       "      <td>Pisamai Wilaisak</td>\n",
       "      <td>unknown</td>\n",
       "      <td>ACTOR</td>\n",
       "      <td>Let's Eat</td>\n",
       "      <td>SHOW</td>\n",
       "      <td>2021</td>\n",
       "      <td>['drama', 'comedy']</td>\n",
       "      <td>8.2</td>\n",
       "      <td>5.0</td>\n",
       "    </tr>\n",
       "    <tr>\n",
       "      <th>85437</th>\n",
       "      <td>Sarawut Wichiensarn</td>\n",
       "      <td>unknown</td>\n",
       "      <td>DIRECTOR</td>\n",
       "      <td>Let's Eat</td>\n",
       "      <td>SHOW</td>\n",
       "      <td>2021</td>\n",
       "      <td>['drama', 'comedy']</td>\n",
       "      <td>8.2</td>\n",
       "      <td>5.0</td>\n",
       "    </tr>\n",
       "  </tbody>\n",
       "</table>\n",
       "</div>"
      ],
      "text/plain": [
       "                      name character      role      title  type  release_year  \\\n",
       "85433     Maneerat Kam-Uan        Ae     ACTOR  Let's Eat  SHOW          2021   \n",
       "85434    Rudklao Amratisha   unknown     ACTOR  Let's Eat  SHOW          2021   \n",
       "85435      Jaturong Mokjok   unknown     ACTOR  Let's Eat  SHOW          2021   \n",
       "85436     Pisamai Wilaisak   unknown     ACTOR  Let's Eat  SHOW          2021   \n",
       "85437  Sarawut Wichiensarn   unknown  DIRECTOR  Let's Eat  SHOW          2021   \n",
       "\n",
       "                    genres  imdb_score  imdb_votes  \n",
       "85433  ['drama', 'comedy']         8.2         5.0  \n",
       "85434  ['drama', 'comedy']         8.2         5.0  \n",
       "85435  ['drama', 'comedy']         8.2         5.0  \n",
       "85436  ['drama', 'comedy']         8.2         5.0  \n",
       "85437  ['drama', 'comedy']         8.2         5.0  "
      ]
     },
     "execution_count": 32,
     "metadata": {},
     "output_type": "execute_result"
    }
   ],
   "source": [
    "# rounding column with scores\n",
    "df['imdb_score'] = df['imdb_score'].round(0)\n",
    "\n",
    "#checking the outcome with tail()\n",
    "golden_age.tail()"
   ]
  },
  {
   "cell_type": "markdown",
   "id": "36dbd00a",
   "metadata": {},
   "source": [
    "It is now time to identify outliers based on the number of votes."
   ]
  },
  {
   "cell_type": "code",
   "execution_count": 33,
   "id": "b8b55e95",
   "metadata": {
    "trusted": false
   },
   "outputs": [
    {
     "data": {
      "text/html": [
       "<div>\n",
       "<style scoped>\n",
       "    .dataframe tbody tr th:only-of-type {\n",
       "        vertical-align: middle;\n",
       "    }\n",
       "\n",
       "    .dataframe tbody tr th {\n",
       "        vertical-align: top;\n",
       "    }\n",
       "\n",
       "    .dataframe thead th {\n",
       "        text-align: right;\n",
       "    }\n",
       "</style>\n",
       "<table border=\"1\" class=\"dataframe\">\n",
       "  <thead>\n",
       "    <tr style=\"text-align: right;\">\n",
       "      <th></th>\n",
       "      <th>name</th>\n",
       "      <th>character</th>\n",
       "      <th>role</th>\n",
       "      <th>title</th>\n",
       "      <th>type</th>\n",
       "      <th>release_year</th>\n",
       "      <th>genres</th>\n",
       "      <th>imdb_votes</th>\n",
       "    </tr>\n",
       "    <tr>\n",
       "      <th>imdb_score</th>\n",
       "      <th></th>\n",
       "      <th></th>\n",
       "      <th></th>\n",
       "      <th></th>\n",
       "      <th></th>\n",
       "      <th></th>\n",
       "      <th></th>\n",
       "      <th></th>\n",
       "    </tr>\n",
       "  </thead>\n",
       "  <tbody>\n",
       "    <tr>\n",
       "      <th>2.0</th>\n",
       "      <td>9</td>\n",
       "      <td>3</td>\n",
       "      <td>2</td>\n",
       "      <td>2</td>\n",
       "      <td>1</td>\n",
       "      <td>2</td>\n",
       "      <td>2</td>\n",
       "      <td>2</td>\n",
       "    </tr>\n",
       "    <tr>\n",
       "      <th>2.1</th>\n",
       "      <td>7</td>\n",
       "      <td>7</td>\n",
       "      <td>1</td>\n",
       "      <td>1</td>\n",
       "      <td>1</td>\n",
       "      <td>1</td>\n",
       "      <td>1</td>\n",
       "      <td>1</td>\n",
       "    </tr>\n",
       "    <tr>\n",
       "      <th>2.3</th>\n",
       "      <td>7</td>\n",
       "      <td>7</td>\n",
       "      <td>1</td>\n",
       "      <td>1</td>\n",
       "      <td>1</td>\n",
       "      <td>1</td>\n",
       "      <td>1</td>\n",
       "      <td>1</td>\n",
       "    </tr>\n",
       "    <tr>\n",
       "      <th>2.5</th>\n",
       "      <td>1</td>\n",
       "      <td>1</td>\n",
       "      <td>1</td>\n",
       "      <td>1</td>\n",
       "      <td>1</td>\n",
       "      <td>1</td>\n",
       "      <td>1</td>\n",
       "      <td>1</td>\n",
       "    </tr>\n",
       "    <tr>\n",
       "      <th>2.9</th>\n",
       "      <td>1</td>\n",
       "      <td>1</td>\n",
       "      <td>1</td>\n",
       "      <td>1</td>\n",
       "      <td>1</td>\n",
       "      <td>1</td>\n",
       "      <td>1</td>\n",
       "      <td>1</td>\n",
       "    </tr>\n",
       "    <tr>\n",
       "      <th>...</th>\n",
       "      <td>...</td>\n",
       "      <td>...</td>\n",
       "      <td>...</td>\n",
       "      <td>...</td>\n",
       "      <td>...</td>\n",
       "      <td>...</td>\n",
       "      <td>...</td>\n",
       "      <td>...</td>\n",
       "    </tr>\n",
       "    <tr>\n",
       "      <th>9.0</th>\n",
       "      <td>38</td>\n",
       "      <td>37</td>\n",
       "      <td>2</td>\n",
       "      <td>6</td>\n",
       "      <td>1</td>\n",
       "      <td>6</td>\n",
       "      <td>6</td>\n",
       "      <td>6</td>\n",
       "    </tr>\n",
       "    <tr>\n",
       "      <th>9.1</th>\n",
       "      <td>8</td>\n",
       "      <td>6</td>\n",
       "      <td>2</td>\n",
       "      <td>3</td>\n",
       "      <td>1</td>\n",
       "      <td>3</td>\n",
       "      <td>3</td>\n",
       "      <td>3</td>\n",
       "    </tr>\n",
       "    <tr>\n",
       "      <th>9.2</th>\n",
       "      <td>19</td>\n",
       "      <td>19</td>\n",
       "      <td>2</td>\n",
       "      <td>1</td>\n",
       "      <td>1</td>\n",
       "      <td>1</td>\n",
       "      <td>1</td>\n",
       "      <td>1</td>\n",
       "    </tr>\n",
       "    <tr>\n",
       "      <th>9.3</th>\n",
       "      <td>12</td>\n",
       "      <td>12</td>\n",
       "      <td>1</td>\n",
       "      <td>2</td>\n",
       "      <td>1</td>\n",
       "      <td>2</td>\n",
       "      <td>2</td>\n",
       "      <td>2</td>\n",
       "    </tr>\n",
       "    <tr>\n",
       "      <th>9.5</th>\n",
       "      <td>8</td>\n",
       "      <td>8</td>\n",
       "      <td>1</td>\n",
       "      <td>1</td>\n",
       "      <td>1</td>\n",
       "      <td>1</td>\n",
       "      <td>1</td>\n",
       "      <td>1</td>\n",
       "    </tr>\n",
       "  </tbody>\n",
       "</table>\n",
       "<p>65 rows × 8 columns</p>\n",
       "</div>"
      ],
      "text/plain": [
       "            name  character  role  title  type  release_year  genres  \\\n",
       "imdb_score                                                             \n",
       "2.0            9          3     2      2     1             2       2   \n",
       "2.1            7          7     1      1     1             1       1   \n",
       "2.3            7          7     1      1     1             1       1   \n",
       "2.5            1          1     1      1     1             1       1   \n",
       "2.9            1          1     1      1     1             1       1   \n",
       "...          ...        ...   ...    ...   ...           ...     ...   \n",
       "9.0           38         37     2      6     1             6       6   \n",
       "9.1            8          6     2      3     1             3       3   \n",
       "9.2           19         19     2      1     1             1       1   \n",
       "9.3           12         12     1      2     1             2       2   \n",
       "9.5            8          8     1      1     1             1       1   \n",
       "\n",
       "            imdb_votes  \n",
       "imdb_score              \n",
       "2.0                  2  \n",
       "2.1                  1  \n",
       "2.3                  1  \n",
       "2.5                  1  \n",
       "2.9                  1  \n",
       "...                ...  \n",
       "9.0                  6  \n",
       "9.1                  3  \n",
       "9.2                  1  \n",
       "9.3                  2  \n",
       "9.5                  1  \n",
       "\n",
       "[65 rows x 8 columns]"
      ]
     },
     "execution_count": 33,
     "metadata": {},
     "output_type": "execute_result"
    }
   ],
   "source": [
    "# Use groupby() for scores and count all unique values in each group, print the result\n",
    "\n",
    "golden_age.groupby('imdb_score').nunique()\n"
   ]
  },
  {
   "cell_type": "markdown",
   "id": "1ba6daae",
   "metadata": {},
   "source": [
    "Based on the aggregation performed, it is evident that scores 2 (24 voted shows), 3 (27 voted shows), and 10 (only 8 voted shows) are outliers. There isn't enough data for these scores for the average number of votes to be meaningful."
   ]
  },
  {
   "cell_type": "markdown",
   "id": "bd468c46",
   "metadata": {},
   "source": [
    "To obtain the mean numbers of votes for the selected scores (we identified a range of 4-9 as acceptable), use conditional filtering and grouping."
   ]
  },
  {
   "cell_type": "code",
   "execution_count": 34,
   "id": "d1867e0e",
   "metadata": {
    "trusted": false
   },
   "outputs": [
    {
     "data": {
      "text/html": [
       "<div>\n",
       "<style scoped>\n",
       "    .dataframe tbody tr th:only-of-type {\n",
       "        vertical-align: middle;\n",
       "    }\n",
       "\n",
       "    .dataframe tbody tr th {\n",
       "        vertical-align: top;\n",
       "    }\n",
       "\n",
       "    .dataframe thead th {\n",
       "        text-align: right;\n",
       "    }\n",
       "</style>\n",
       "<table border=\"1\" class=\"dataframe\">\n",
       "  <thead>\n",
       "    <tr style=\"text-align: right;\">\n",
       "      <th></th>\n",
       "      <th>imdb_score</th>\n",
       "      <th>imdb_votes</th>\n",
       "    </tr>\n",
       "  </thead>\n",
       "  <tbody>\n",
       "    <tr>\n",
       "      <th>0</th>\n",
       "      <td>2.0</td>\n",
       "      <td>5047.303965</td>\n",
       "    </tr>\n",
       "    <tr>\n",
       "      <th>1</th>\n",
       "      <td>3.0</td>\n",
       "      <td>7770.629893</td>\n",
       "    </tr>\n",
       "    <tr>\n",
       "      <th>2</th>\n",
       "      <td>4.0</td>\n",
       "      <td>8943.007876</td>\n",
       "    </tr>\n",
       "    <tr>\n",
       "      <th>3</th>\n",
       "      <td>5.0</td>\n",
       "      <td>14421.066403</td>\n",
       "    </tr>\n",
       "    <tr>\n",
       "      <th>4</th>\n",
       "      <td>6.0</td>\n",
       "      <td>29552.217666</td>\n",
       "    </tr>\n",
       "    <tr>\n",
       "      <th>5</th>\n",
       "      <td>7.0</td>\n",
       "      <td>54061.490793</td>\n",
       "    </tr>\n",
       "    <tr>\n",
       "      <th>6</th>\n",
       "      <td>8.0</td>\n",
       "      <td>162813.093748</td>\n",
       "    </tr>\n",
       "    <tr>\n",
       "      <th>7</th>\n",
       "      <td>9.0</td>\n",
       "      <td>577107.221778</td>\n",
       "    </tr>\n",
       "  </tbody>\n",
       "</table>\n",
       "</div>"
      ],
      "text/plain": [
       "   imdb_score     imdb_votes\n",
       "0         2.0    5047.303965\n",
       "1         3.0    7770.629893\n",
       "2         4.0    8943.007876\n",
       "3         5.0   14421.066403\n",
       "4         6.0   29552.217666\n",
       "5         7.0   54061.490793\n",
       "6         8.0  162813.093748\n",
       "7         9.0  577107.221778"
      ]
     },
     "execution_count": 34,
     "metadata": {},
     "output_type": "execute_result"
    }
   ],
   "source": [
    "# filter dataframe using two conditions (scores to be in the range 4-9)\n",
    "golden_age_2 = df[df['imdb_score'] >= 4.0]\n",
    "golden_age_2 = df[df['imdb_score'] <= 9.0]\n",
    "\n",
    "# group scores and corresponding average number of votes, reset index and print the result\n",
    "ga_grouped_2 = golden_age_2.groupby('imdb_score')['imdb_votes'].mean().reset_index()\n",
    "ga_grouped_2"
   ]
  },
  {
   "cell_type": "markdown",
   "id": "96a66d14",
   "metadata": {},
   "source": [
    "Now for the final step! Round the column with the averages, rename both columns, and print the dataframe in descending order."
   ]
  },
  {
   "cell_type": "code",
   "execution_count": 35,
   "id": "5999051b",
   "metadata": {
    "trusted": false
   },
   "outputs": [
    {
     "data": {
      "text/html": [
       "<div>\n",
       "<style scoped>\n",
       "    .dataframe tbody tr th:only-of-type {\n",
       "        vertical-align: middle;\n",
       "    }\n",
       "\n",
       "    .dataframe tbody tr th {\n",
       "        vertical-align: top;\n",
       "    }\n",
       "\n",
       "    .dataframe thead th {\n",
       "        text-align: right;\n",
       "    }\n",
       "</style>\n",
       "<table border=\"1\" class=\"dataframe\">\n",
       "  <thead>\n",
       "    <tr style=\"text-align: right;\">\n",
       "      <th></th>\n",
       "      <th>index</th>\n",
       "      <th>Scores</th>\n",
       "      <th>Average_Votes</th>\n",
       "    </tr>\n",
       "  </thead>\n",
       "  <tbody>\n",
       "    <tr>\n",
       "      <th>7</th>\n",
       "      <td>7</td>\n",
       "      <td>9.0</td>\n",
       "      <td>577107.0</td>\n",
       "    </tr>\n",
       "    <tr>\n",
       "      <th>6</th>\n",
       "      <td>6</td>\n",
       "      <td>8.0</td>\n",
       "      <td>162813.0</td>\n",
       "    </tr>\n",
       "    <tr>\n",
       "      <th>5</th>\n",
       "      <td>5</td>\n",
       "      <td>7.0</td>\n",
       "      <td>54061.0</td>\n",
       "    </tr>\n",
       "    <tr>\n",
       "      <th>4</th>\n",
       "      <td>4</td>\n",
       "      <td>6.0</td>\n",
       "      <td>29552.0</td>\n",
       "    </tr>\n",
       "    <tr>\n",
       "      <th>3</th>\n",
       "      <td>3</td>\n",
       "      <td>5.0</td>\n",
       "      <td>14421.0</td>\n",
       "    </tr>\n",
       "    <tr>\n",
       "      <th>2</th>\n",
       "      <td>2</td>\n",
       "      <td>4.0</td>\n",
       "      <td>8943.0</td>\n",
       "    </tr>\n",
       "    <tr>\n",
       "      <th>1</th>\n",
       "      <td>1</td>\n",
       "      <td>3.0</td>\n",
       "      <td>7771.0</td>\n",
       "    </tr>\n",
       "    <tr>\n",
       "      <th>0</th>\n",
       "      <td>0</td>\n",
       "      <td>2.0</td>\n",
       "      <td>5047.0</td>\n",
       "    </tr>\n",
       "  </tbody>\n",
       "</table>\n",
       "</div>"
      ],
      "text/plain": [
       "   index  Scores  Average_Votes\n",
       "7      7     9.0       577107.0\n",
       "6      6     8.0       162813.0\n",
       "5      5     7.0        54061.0\n",
       "4      4     6.0        29552.0\n",
       "3      3     5.0        14421.0\n",
       "2      2     4.0         8943.0\n",
       "1      1     3.0         7771.0\n",
       "0      0     2.0         5047.0"
      ]
     },
     "execution_count": 35,
     "metadata": {},
     "output_type": "execute_result"
    }
   ],
   "source": [
    "# round column with averages\n",
    "ga_grouped_2_rounded = ga_grouped_2.round()\n",
    "\n",
    "# rename columns\n",
    "ga_grouped_2 = ga_grouped_2_rounded.reset_index() #reestablish as a DataFrame to allow for next steps\n",
    "ga_grouped_2 = ga_grouped_2.rename(\n",
    "    columns={\n",
    "        'imdb_score': 'Scores',\n",
    "        'imdb_votes': 'Average_Votes',\n",
    "    }\n",
    ")\n",
    "\n",
    "# print dataframe in descending order\n",
    "ga_grouped_2_desc = ga_grouped_2.sort_values(by='Average_Votes', ascending=False)\n",
    "ga_grouped_2_desc"
   ]
  },
  {
   "cell_type": "markdown",
   "id": "af07386d",
   "metadata": {},
   "source": [
    "The assumption matches the analysis: the shows with the top 3 scores have the most amounts of votes."
   ]
  },
  {
   "cell_type": "markdown",
   "id": "84e29a37",
   "metadata": {},
   "source": [
    "## Conclusion <a id='hypotheses'></a>"
   ]
  },
  {
   "cell_type": "markdown",
   "id": "984766a3",
   "metadata": {},
   "source": [
    "The research done confirms that highly-rated shows released during the \"Golden Age\" of television also have the most votes. While shows with score 4 have more votes than ones with scores 5 and 6, the top three (scores 7-9) have the largest number. The data studied represents around 94% of the original set, so we can be confident in our findings."
   ]
  }
 ],
 "metadata": {
  "ExecuteTimeLog": [
   {
    "duration": 283,
    "start_time": "2025-01-23T01:14:03.826Z"
   },
   {
    "duration": 541,
    "start_time": "2025-01-23T01:14:06.419Z"
   },
   {
    "duration": 60,
    "start_time": "2025-01-23T01:14:30.111Z"
   },
   {
    "duration": 58,
    "start_time": "2025-01-23T01:14:40.829Z"
   },
   {
    "duration": 133,
    "start_time": "2025-01-23T01:15:57.513Z"
   },
   {
    "duration": 12,
    "start_time": "2025-01-23T01:20:26.698Z"
   },
   {
    "duration": 163,
    "start_time": "2025-01-23T04:55:38.499Z"
   },
   {
    "duration": 12,
    "start_time": "2025-01-23T04:56:22.829Z"
   },
   {
    "duration": 279,
    "start_time": "2025-01-23T04:56:28.437Z"
   },
   {
    "duration": 128,
    "start_time": "2025-01-23T04:56:30.538Z"
   },
   {
    "duration": 15,
    "start_time": "2025-01-23T04:56:33.042Z"
   },
   {
    "duration": 24,
    "start_time": "2025-01-23T04:56:47.142Z"
   },
   {
    "duration": 4,
    "start_time": "2025-01-23T04:56:58.605Z"
   },
   {
    "duration": 6,
    "start_time": "2025-01-23T04:57:19.685Z"
   },
   {
    "duration": 3,
    "start_time": "2025-01-23T04:57:30.646Z"
   },
   {
    "duration": 17,
    "start_time": "2025-01-23T04:57:40.287Z"
   },
   {
    "duration": 26,
    "start_time": "2025-01-23T04:57:46.066Z"
   },
   {
    "duration": 17,
    "start_time": "2025-01-23T04:57:53.418Z"
   },
   {
    "duration": 40,
    "start_time": "2025-01-23T04:58:02.842Z"
   },
   {
    "duration": 50,
    "start_time": "2025-01-23T04:58:10.074Z"
   },
   {
    "duration": 60,
    "start_time": "2025-01-23T04:58:16.322Z"
   },
   {
    "duration": 42,
    "start_time": "2025-01-23T04:58:24.909Z"
   },
   {
    "duration": 152,
    "start_time": "2025-01-24T01:53:09.559Z"
   },
   {
    "duration": 12,
    "start_time": "2025-01-24T01:53:24.149Z"
   },
   {
    "duration": 290,
    "start_time": "2025-01-24T01:53:28.465Z"
   },
   {
    "duration": 184,
    "start_time": "2025-01-24T01:53:28.757Z"
   },
   {
    "duration": 9,
    "start_time": "2025-01-24T01:53:28.943Z"
   },
   {
    "duration": 0,
    "start_time": "2025-01-24T01:53:28.955Z"
   },
   {
    "duration": 0,
    "start_time": "2025-01-24T01:53:28.959Z"
   },
   {
    "duration": 0,
    "start_time": "2025-01-24T01:53:28.960Z"
   },
   {
    "duration": 0,
    "start_time": "2025-01-24T01:53:28.962Z"
   },
   {
    "duration": 0,
    "start_time": "2025-01-24T01:53:28.963Z"
   },
   {
    "duration": 0,
    "start_time": "2025-01-24T01:53:28.964Z"
   },
   {
    "duration": 0,
    "start_time": "2025-01-24T01:53:28.965Z"
   },
   {
    "duration": 0,
    "start_time": "2025-01-24T01:53:28.966Z"
   },
   {
    "duration": 0,
    "start_time": "2025-01-24T01:53:28.968Z"
   },
   {
    "duration": 0,
    "start_time": "2025-01-24T01:53:28.969Z"
   },
   {
    "duration": 0,
    "start_time": "2025-01-24T01:53:28.970Z"
   },
   {
    "duration": 0,
    "start_time": "2025-01-24T01:53:28.971Z"
   },
   {
    "duration": 0,
    "start_time": "2025-01-24T01:53:28.973Z"
   },
   {
    "duration": 0,
    "start_time": "2025-01-24T01:53:28.974Z"
   },
   {
    "duration": 0,
    "start_time": "2025-01-24T01:53:28.974Z"
   },
   {
    "duration": 0,
    "start_time": "2025-01-24T01:53:28.975Z"
   },
   {
    "duration": 0,
    "start_time": "2025-01-24T01:53:28.976Z"
   },
   {
    "duration": 0,
    "start_time": "2025-01-24T01:53:28.977Z"
   },
   {
    "duration": 0,
    "start_time": "2025-01-24T01:53:28.978Z"
   },
   {
    "duration": 0,
    "start_time": "2025-01-24T01:53:28.979Z"
   },
   {
    "duration": 0,
    "start_time": "2025-01-24T01:53:28.983Z"
   },
   {
    "duration": 0,
    "start_time": "2025-01-24T01:53:28.985Z"
   },
   {
    "duration": 5,
    "start_time": "2025-01-24T01:53:46.122Z"
   },
   {
    "duration": 3,
    "start_time": "2025-01-24T01:53:51.370Z"
   },
   {
    "duration": 112,
    "start_time": "2025-01-24T01:53:51.374Z"
   },
   {
    "duration": 4,
    "start_time": "2025-01-24T01:53:51.488Z"
   },
   {
    "duration": 0,
    "start_time": "2025-01-24T01:53:51.495Z"
   },
   {
    "duration": 0,
    "start_time": "2025-01-24T01:53:51.496Z"
   },
   {
    "duration": 0,
    "start_time": "2025-01-24T01:53:51.499Z"
   },
   {
    "duration": 0,
    "start_time": "2025-01-24T01:53:51.512Z"
   },
   {
    "duration": 0,
    "start_time": "2025-01-24T01:53:51.513Z"
   },
   {
    "duration": 0,
    "start_time": "2025-01-24T01:53:51.515Z"
   },
   {
    "duration": 0,
    "start_time": "2025-01-24T01:53:51.516Z"
   },
   {
    "duration": 0,
    "start_time": "2025-01-24T01:53:51.517Z"
   },
   {
    "duration": 1,
    "start_time": "2025-01-24T01:53:51.518Z"
   },
   {
    "duration": 0,
    "start_time": "2025-01-24T01:53:51.520Z"
   },
   {
    "duration": 0,
    "start_time": "2025-01-24T01:53:51.521Z"
   },
   {
    "duration": 0,
    "start_time": "2025-01-24T01:53:51.523Z"
   },
   {
    "duration": 0,
    "start_time": "2025-01-24T01:53:51.524Z"
   },
   {
    "duration": 0,
    "start_time": "2025-01-24T01:53:51.526Z"
   },
   {
    "duration": 0,
    "start_time": "2025-01-24T01:53:51.527Z"
   },
   {
    "duration": 0,
    "start_time": "2025-01-24T01:53:51.529Z"
   },
   {
    "duration": 0,
    "start_time": "2025-01-24T01:53:51.530Z"
   },
   {
    "duration": 0,
    "start_time": "2025-01-24T01:53:51.532Z"
   },
   {
    "duration": 0,
    "start_time": "2025-01-24T01:53:51.533Z"
   },
   {
    "duration": 0,
    "start_time": "2025-01-24T01:53:51.535Z"
   },
   {
    "duration": 0,
    "start_time": "2025-01-24T01:53:51.537Z"
   },
   {
    "duration": 0,
    "start_time": "2025-01-24T01:53:51.538Z"
   },
   {
    "duration": 112,
    "start_time": "2025-01-24T01:54:22.197Z"
   },
   {
    "duration": 14,
    "start_time": "2025-01-24T01:54:41.126Z"
   },
   {
    "duration": 23,
    "start_time": "2025-01-24T01:54:44.551Z"
   },
   {
    "duration": 3,
    "start_time": "2025-01-24T01:54:47.577Z"
   },
   {
    "duration": 5,
    "start_time": "2025-01-24T01:54:49.382Z"
   },
   {
    "duration": 3,
    "start_time": "2025-01-24T01:54:52.036Z"
   },
   {
    "duration": 19,
    "start_time": "2025-01-24T01:54:54.468Z"
   },
   {
    "duration": 31,
    "start_time": "2025-01-24T01:54:57.206Z"
   },
   {
    "duration": 17,
    "start_time": "2025-01-24T01:54:58.833Z"
   },
   {
    "duration": 39,
    "start_time": "2025-01-24T01:55:00.768Z"
   },
   {
    "duration": 47,
    "start_time": "2025-01-24T01:55:02.328Z"
   },
   {
    "duration": 42,
    "start_time": "2025-01-24T01:55:05.041Z"
   },
   {
    "duration": 37,
    "start_time": "2025-01-24T01:55:06.545Z"
   },
   {
    "duration": 35,
    "start_time": "2025-01-24T01:55:09.052Z"
   },
   {
    "duration": 12,
    "start_time": "2025-01-24T01:55:49.950Z"
   },
   {
    "duration": 347,
    "start_time": "2025-01-24T01:57:44.420Z"
   },
   {
    "duration": 32,
    "start_time": "2025-01-24T01:58:24.973Z"
   },
   {
    "duration": 34,
    "start_time": "2025-01-24T01:58:42.044Z"
   },
   {
    "duration": 13,
    "start_time": "2025-01-24T01:59:33.040Z"
   },
   {
    "duration": 39,
    "start_time": "2025-01-24T01:59:45.208Z"
   },
   {
    "duration": 34,
    "start_time": "2025-01-24T02:00:38.106Z"
   },
   {
    "duration": 49,
    "start_time": "2025-01-24T02:01:23.244Z"
   },
   {
    "duration": 6,
    "start_time": "2025-01-24T02:01:36.820Z"
   },
   {
    "duration": 11,
    "start_time": "2025-01-24T02:04:08.542Z"
   },
   {
    "duration": 36,
    "start_time": "2025-01-24T02:04:19.922Z"
   },
   {
    "duration": 5,
    "start_time": "2025-01-24T02:51:22.796Z"
   },
   {
    "duration": 3,
    "start_time": "2025-01-24T02:51:48.912Z"
   },
   {
    "duration": 17,
    "start_time": "2025-01-24T02:51:53.201Z"
   },
   {
    "duration": 6,
    "start_time": "2025-01-24T02:51:55.544Z"
   },
   {
    "duration": 7,
    "start_time": "2025-01-24T03:37:04.584Z"
   },
   {
    "duration": 4,
    "start_time": "2025-01-24T03:39:10.258Z"
   },
   {
    "duration": 4,
    "start_time": "2025-01-24T03:41:59.133Z"
   },
   {
    "duration": 4,
    "start_time": "2025-01-24T04:03:47.333Z"
   },
   {
    "duration": 4,
    "start_time": "2025-01-24T04:21:19.067Z"
   },
   {
    "duration": 7,
    "start_time": "2025-01-24T04:30:53.764Z"
   },
   {
    "duration": 7,
    "start_time": "2025-01-24T04:31:14.960Z"
   },
   {
    "duration": 6,
    "start_time": "2025-01-24T04:31:27.597Z"
   },
   {
    "duration": 4,
    "start_time": "2025-01-24T04:31:52.765Z"
   },
   {
    "duration": 3,
    "start_time": "2025-01-24T04:31:58.622Z"
   },
   {
    "duration": 7,
    "start_time": "2025-01-24T04:32:04.586Z"
   },
   {
    "duration": 140,
    "start_time": "2025-01-24T04:32:39.657Z"
   },
   {
    "duration": 7,
    "start_time": "2025-01-24T04:33:17.006Z"
   },
   {
    "duration": 7,
    "start_time": "2025-01-24T04:33:29.273Z"
   },
   {
    "duration": 7,
    "start_time": "2025-01-24T04:33:35.772Z"
   },
   {
    "duration": 7,
    "start_time": "2025-01-24T04:33:38.045Z"
   },
   {
    "duration": 2,
    "start_time": "2025-01-24T04:33:46.488Z"
   },
   {
    "duration": 111,
    "start_time": "2025-01-24T04:33:48.774Z"
   },
   {
    "duration": 9,
    "start_time": "2025-01-24T04:33:51.583Z"
   },
   {
    "duration": 23,
    "start_time": "2025-01-24T04:33:56.238Z"
   },
   {
    "duration": 3,
    "start_time": "2025-01-24T04:33:59.978Z"
   },
   {
    "duration": 6,
    "start_time": "2025-01-24T04:34:03.082Z"
   },
   {
    "duration": 3,
    "start_time": "2025-01-24T04:34:05.430Z"
   },
   {
    "duration": 18,
    "start_time": "2025-01-24T04:34:07.698Z"
   },
   {
    "duration": 26,
    "start_time": "2025-01-24T04:34:10.342Z"
   },
   {
    "duration": 17,
    "start_time": "2025-01-24T04:34:12.206Z"
   },
   {
    "duration": 46,
    "start_time": "2025-01-24T04:34:14.666Z"
   },
   {
    "duration": 47,
    "start_time": "2025-01-24T04:34:16.706Z"
   },
   {
    "duration": 42,
    "start_time": "2025-01-24T04:34:20.066Z"
   },
   {
    "duration": 36,
    "start_time": "2025-01-24T04:34:22.874Z"
   },
   {
    "duration": 31,
    "start_time": "2025-01-24T04:34:26.062Z"
   },
   {
    "duration": 3,
    "start_time": "2025-01-24T04:34:29.322Z"
   },
   {
    "duration": 12,
    "start_time": "2025-01-24T04:34:31.261Z"
   },
   {
    "duration": 6,
    "start_time": "2025-01-24T04:34:33.359Z"
   },
   {
    "duration": 16,
    "start_time": "2025-01-24T04:34:36.788Z"
   },
   {
    "duration": 18,
    "start_time": "2025-01-24T04:34:45.462Z"
   },
   {
    "duration": 13,
    "start_time": "2025-01-24T04:35:04.855Z"
   },
   {
    "duration": 16,
    "start_time": "2025-01-24T04:35:27.575Z"
   },
   {
    "duration": 18,
    "start_time": "2025-01-24T04:35:38.566Z"
   },
   {
    "duration": 19,
    "start_time": "2025-01-24T04:35:50.501Z"
   },
   {
    "duration": 17,
    "start_time": "2025-01-24T04:35:55.173Z"
   },
   {
    "duration": 13,
    "start_time": "2025-01-24T04:36:09.612Z"
   },
   {
    "duration": 18,
    "start_time": "2025-01-24T04:36:31.141Z"
   },
   {
    "duration": 17,
    "start_time": "2025-01-24T04:37:40.392Z"
   },
   {
    "duration": 18,
    "start_time": "2025-01-24T04:37:52.346Z"
   },
   {
    "duration": 4,
    "start_time": "2025-01-24T04:40:07.503Z"
   },
   {
    "duration": 13,
    "start_time": "2025-01-24T04:40:11.122Z"
   },
   {
    "duration": 13,
    "start_time": "2025-01-24T04:40:16.922Z"
   },
   {
    "duration": 4,
    "start_time": "2025-01-24T04:40:26.174Z"
   },
   {
    "duration": 18,
    "start_time": "2025-01-24T04:40:35.536Z"
   },
   {
    "duration": 18,
    "start_time": "2025-01-24T04:40:42.724Z"
   },
   {
    "duration": 19,
    "start_time": "2025-01-24T04:40:52.794Z"
   },
   {
    "duration": 5,
    "start_time": "2025-01-24T04:41:04.815Z"
   },
   {
    "duration": 12,
    "start_time": "2025-01-24T04:41:10.447Z"
   },
   {
    "duration": 11,
    "start_time": "2025-01-24T04:41:27.260Z"
   },
   {
    "duration": 18,
    "start_time": "2025-01-24T04:41:40.947Z"
   },
   {
    "duration": 10,
    "start_time": "2025-01-24T04:41:45.818Z"
   },
   {
    "duration": 10,
    "start_time": "2025-01-24T04:42:00.383Z"
   },
   {
    "duration": 4,
    "start_time": "2025-01-24T04:42:08.423Z"
   },
   {
    "duration": 8,
    "start_time": "2025-01-24T04:42:23.790Z"
   },
   {
    "duration": 3,
    "start_time": "2025-01-24T04:42:26.150Z"
   },
   {
    "duration": 7,
    "start_time": "2025-01-24T04:42:30.265Z"
   },
   {
    "duration": 2,
    "start_time": "2025-01-24T04:42:40.449Z"
   },
   {
    "duration": 115,
    "start_time": "2025-01-24T04:42:40.453Z"
   },
   {
    "duration": 9,
    "start_time": "2025-01-24T04:42:40.570Z"
   },
   {
    "duration": 30,
    "start_time": "2025-01-24T04:42:40.581Z"
   },
   {
    "duration": 3,
    "start_time": "2025-01-24T04:42:40.614Z"
   },
   {
    "duration": 6,
    "start_time": "2025-01-24T04:42:40.618Z"
   },
   {
    "duration": 2,
    "start_time": "2025-01-24T04:42:40.626Z"
   },
   {
    "duration": 17,
    "start_time": "2025-01-24T04:42:40.630Z"
   },
   {
    "duration": 23,
    "start_time": "2025-01-24T04:42:40.649Z"
   },
   {
    "duration": 45,
    "start_time": "2025-01-24T04:42:40.673Z"
   },
   {
    "duration": 38,
    "start_time": "2025-01-24T04:42:40.722Z"
   },
   {
    "duration": 64,
    "start_time": "2025-01-24T04:42:40.761Z"
   },
   {
    "duration": 44,
    "start_time": "2025-01-24T04:42:40.827Z"
   },
   {
    "duration": 49,
    "start_time": "2025-01-24T04:42:40.873Z"
   },
   {
    "duration": 31,
    "start_time": "2025-01-24T04:42:40.924Z"
   },
   {
    "duration": 3,
    "start_time": "2025-01-24T04:42:40.956Z"
   },
   {
    "duration": 13,
    "start_time": "2025-01-24T04:42:40.960Z"
   },
   {
    "duration": 5,
    "start_time": "2025-01-24T04:42:40.974Z"
   },
   {
    "duration": 40,
    "start_time": "2025-01-24T04:42:40.981Z"
   },
   {
    "duration": 16,
    "start_time": "2025-01-24T04:42:41.022Z"
   },
   {
    "duration": 2,
    "start_time": "2025-01-24T04:42:41.040Z"
   },
   {
    "duration": 2,
    "start_time": "2025-01-24T04:42:41.044Z"
   },
   {
    "duration": 4,
    "start_time": "2025-01-24T04:42:41.047Z"
   },
   {
    "duration": 3,
    "start_time": "2025-01-24T04:42:41.052Z"
   },
   {
    "duration": 16,
    "start_time": "2025-01-24T04:46:02.813Z"
   },
   {
    "duration": 9,
    "start_time": "2025-01-24T04:46:17.009Z"
   },
   {
    "duration": 18,
    "start_time": "2025-01-24T04:47:08.768Z"
   },
   {
    "duration": 7,
    "start_time": "2025-01-24T04:47:18.140Z"
   },
   {
    "duration": 18,
    "start_time": "2025-01-24T04:47:20.013Z"
   },
   {
    "duration": 7,
    "start_time": "2025-01-24T04:48:10.349Z"
   },
   {
    "duration": 18,
    "start_time": "2025-01-24T04:48:12.749Z"
   },
   {
    "duration": 3,
    "start_time": "2025-01-24T04:48:34.069Z"
   },
   {
    "duration": 117,
    "start_time": "2025-01-24T04:48:34.074Z"
   },
   {
    "duration": 10,
    "start_time": "2025-01-24T04:48:34.193Z"
   },
   {
    "duration": 29,
    "start_time": "2025-01-24T04:48:34.204Z"
   },
   {
    "duration": 3,
    "start_time": "2025-01-24T04:48:34.234Z"
   },
   {
    "duration": 6,
    "start_time": "2025-01-24T04:48:34.239Z"
   },
   {
    "duration": 3,
    "start_time": "2025-01-24T04:48:34.246Z"
   },
   {
    "duration": 17,
    "start_time": "2025-01-24T04:48:34.251Z"
   },
   {
    "duration": 48,
    "start_time": "2025-01-24T04:48:34.270Z"
   },
   {
    "duration": 16,
    "start_time": "2025-01-24T04:48:34.320Z"
   },
   {
    "duration": 37,
    "start_time": "2025-01-24T04:48:34.338Z"
   },
   {
    "duration": 63,
    "start_time": "2025-01-24T04:48:34.377Z"
   },
   {
    "duration": 41,
    "start_time": "2025-01-24T04:48:34.442Z"
   },
   {
    "duration": 47,
    "start_time": "2025-01-24T04:48:34.484Z"
   },
   {
    "duration": 30,
    "start_time": "2025-01-24T04:48:34.534Z"
   },
   {
    "duration": 2,
    "start_time": "2025-01-24T04:48:34.566Z"
   },
   {
    "duration": 13,
    "start_time": "2025-01-24T04:48:34.570Z"
   },
   {
    "duration": 5,
    "start_time": "2025-01-24T04:48:34.584Z"
   },
   {
    "duration": 25,
    "start_time": "2025-01-24T04:48:34.591Z"
   },
   {
    "duration": 17,
    "start_time": "2025-01-24T04:48:34.618Z"
   },
   {
    "duration": 2,
    "start_time": "2025-01-24T04:48:34.636Z"
   },
   {
    "duration": 3,
    "start_time": "2025-01-24T04:48:34.640Z"
   },
   {
    "duration": 2,
    "start_time": "2025-01-24T04:48:34.645Z"
   },
   {
    "duration": 3,
    "start_time": "2025-01-24T04:48:34.648Z"
   },
   {
    "duration": 20,
    "start_time": "2025-01-24T04:51:33.206Z"
   },
   {
    "duration": 2,
    "start_time": "2025-01-24T04:51:40.376Z"
   },
   {
    "duration": 18,
    "start_time": "2025-01-24T04:52:33.969Z"
   },
   {
    "duration": 22,
    "start_time": "2025-01-24T04:52:52.789Z"
   },
   {
    "duration": 21,
    "start_time": "2025-01-24T04:53:02.959Z"
   },
   {
    "duration": 2,
    "start_time": "2025-01-24T04:53:10.567Z"
   },
   {
    "duration": 114,
    "start_time": "2025-01-24T04:53:10.572Z"
   },
   {
    "duration": 10,
    "start_time": "2025-01-24T04:53:10.687Z"
   },
   {
    "duration": 20,
    "start_time": "2025-01-24T04:53:10.711Z"
   },
   {
    "duration": 2,
    "start_time": "2025-01-24T04:53:10.734Z"
   },
   {
    "duration": 6,
    "start_time": "2025-01-24T04:53:10.737Z"
   },
   {
    "duration": 4,
    "start_time": "2025-01-24T04:53:10.744Z"
   },
   {
    "duration": 17,
    "start_time": "2025-01-24T04:53:10.749Z"
   },
   {
    "duration": 47,
    "start_time": "2025-01-24T04:53:10.767Z"
   },
   {
    "duration": 16,
    "start_time": "2025-01-24T04:53:10.815Z"
   },
   {
    "duration": 38,
    "start_time": "2025-01-24T04:53:10.833Z"
   },
   {
    "duration": 67,
    "start_time": "2025-01-24T04:53:10.872Z"
   },
   {
    "duration": 40,
    "start_time": "2025-01-24T04:53:10.941Z"
   },
   {
    "duration": 46,
    "start_time": "2025-01-24T04:53:10.985Z"
   },
   {
    "duration": 30,
    "start_time": "2025-01-24T04:53:11.033Z"
   },
   {
    "duration": 3,
    "start_time": "2025-01-24T04:53:11.064Z"
   },
   {
    "duration": 13,
    "start_time": "2025-01-24T04:53:11.068Z"
   },
   {
    "duration": 5,
    "start_time": "2025-01-24T04:53:11.082Z"
   },
   {
    "duration": 16,
    "start_time": "2025-01-24T04:53:11.112Z"
   },
   {
    "duration": 21,
    "start_time": "2025-01-24T04:53:11.130Z"
   },
   {
    "duration": 2,
    "start_time": "2025-01-24T04:53:11.152Z"
   },
   {
    "duration": 3,
    "start_time": "2025-01-24T04:53:11.156Z"
   },
   {
    "duration": 3,
    "start_time": "2025-01-24T04:53:11.160Z"
   },
   {
    "duration": 3,
    "start_time": "2025-01-24T04:53:11.164Z"
   },
   {
    "duration": 15,
    "start_time": "2025-01-24T04:55:08.489Z"
   },
   {
    "duration": 20,
    "start_time": "2025-01-24T04:55:15.263Z"
   },
   {
    "duration": 5,
    "start_time": "2025-01-24T04:55:27.449Z"
   },
   {
    "duration": 21,
    "start_time": "2025-01-24T04:56:19.388Z"
   },
   {
    "duration": 17,
    "start_time": "2025-01-24T04:56:36.333Z"
   },
   {
    "duration": 18,
    "start_time": "2025-01-24T04:56:46.124Z"
   },
   {
    "duration": 3,
    "start_time": "2025-01-24T04:56:49.833Z"
   },
   {
    "duration": 124,
    "start_time": "2025-01-24T04:56:49.838Z"
   },
   {
    "duration": 10,
    "start_time": "2025-01-24T04:56:49.966Z"
   },
   {
    "duration": 21,
    "start_time": "2025-01-24T04:56:49.978Z"
   },
   {
    "duration": 10,
    "start_time": "2025-01-24T04:56:50.002Z"
   },
   {
    "duration": 5,
    "start_time": "2025-01-24T04:56:50.014Z"
   },
   {
    "duration": 3,
    "start_time": "2025-01-24T04:56:50.021Z"
   },
   {
    "duration": 18,
    "start_time": "2025-01-24T04:56:50.025Z"
   },
   {
    "duration": 22,
    "start_time": "2025-01-24T04:56:50.045Z"
   },
   {
    "duration": 44,
    "start_time": "2025-01-24T04:56:50.069Z"
   },
   {
    "duration": 38,
    "start_time": "2025-01-24T04:56:50.115Z"
   },
   {
    "duration": 60,
    "start_time": "2025-01-24T04:56:50.155Z"
   },
   {
    "duration": 41,
    "start_time": "2025-01-24T04:56:50.216Z"
   },
   {
    "duration": 34,
    "start_time": "2025-01-24T04:56:50.261Z"
   },
   {
    "duration": 32,
    "start_time": "2025-01-24T04:56:50.311Z"
   },
   {
    "duration": 3,
    "start_time": "2025-01-24T04:56:50.344Z"
   },
   {
    "duration": 12,
    "start_time": "2025-01-24T04:56:50.349Z"
   },
   {
    "duration": 5,
    "start_time": "2025-01-24T04:56:50.363Z"
   },
   {
    "duration": 43,
    "start_time": "2025-01-24T04:56:50.369Z"
   },
   {
    "duration": 17,
    "start_time": "2025-01-24T04:56:50.413Z"
   },
   {
    "duration": 2,
    "start_time": "2025-01-24T04:56:50.432Z"
   },
   {
    "duration": 2,
    "start_time": "2025-01-24T04:56:50.436Z"
   },
   {
    "duration": 3,
    "start_time": "2025-01-24T04:56:50.440Z"
   },
   {
    "duration": 4,
    "start_time": "2025-01-24T04:56:50.444Z"
   },
   {
    "duration": 13,
    "start_time": "2025-01-24T04:57:04.215Z"
   },
   {
    "duration": 2,
    "start_time": "2025-01-24T04:57:08.947Z"
   },
   {
    "duration": 16,
    "start_time": "2025-01-24T05:00:36.075Z"
   },
   {
    "duration": 17,
    "start_time": "2025-01-24T05:00:50.520Z"
   },
   {
    "duration": 16,
    "start_time": "2025-01-24T05:01:20.153Z"
   },
   {
    "duration": 19,
    "start_time": "2025-01-24T05:01:24.581Z"
   },
   {
    "duration": 17,
    "start_time": "2025-01-24T05:01:30.626Z"
   },
   {
    "duration": 350,
    "start_time": "2025-01-25T03:18:32.842Z"
   },
   {
    "duration": 239,
    "start_time": "2025-01-25T03:18:33.195Z"
   },
   {
    "duration": 24,
    "start_time": "2025-01-25T03:18:33.435Z"
   },
   {
    "duration": 25,
    "start_time": "2025-01-25T03:18:33.461Z"
   },
   {
    "duration": 2,
    "start_time": "2025-01-25T03:18:33.489Z"
   },
   {
    "duration": 5,
    "start_time": "2025-01-25T03:18:33.493Z"
   },
   {
    "duration": 2,
    "start_time": "2025-01-25T03:18:33.500Z"
   },
   {
    "duration": 40,
    "start_time": "2025-01-25T03:18:33.518Z"
   },
   {
    "duration": 28,
    "start_time": "2025-01-25T03:18:33.559Z"
   },
   {
    "duration": 18,
    "start_time": "2025-01-25T03:18:33.588Z"
   },
   {
    "duration": 71,
    "start_time": "2025-01-25T03:18:33.609Z"
   },
   {
    "duration": 81,
    "start_time": "2025-01-25T03:18:33.682Z"
   },
   {
    "duration": 57,
    "start_time": "2025-01-25T03:18:33.764Z"
   },
   {
    "duration": 55,
    "start_time": "2025-01-25T03:18:33.832Z"
   },
   {
    "duration": 59,
    "start_time": "2025-01-25T03:18:33.890Z"
   },
   {
    "duration": 12,
    "start_time": "2025-01-25T03:18:33.961Z"
   },
   {
    "duration": 12,
    "start_time": "2025-01-25T03:18:33.974Z"
   },
   {
    "duration": 5,
    "start_time": "2025-01-25T03:18:33.987Z"
   },
   {
    "duration": 29,
    "start_time": "2025-01-25T03:18:33.994Z"
   },
   {
    "duration": 34,
    "start_time": "2025-01-25T03:18:34.024Z"
   },
   {
    "duration": 2,
    "start_time": "2025-01-25T03:18:34.060Z"
   },
   {
    "duration": 3,
    "start_time": "2025-01-25T03:18:34.063Z"
   },
   {
    "duration": 3,
    "start_time": "2025-01-25T03:18:34.067Z"
   },
   {
    "duration": 2,
    "start_time": "2025-01-25T03:18:34.072Z"
   },
   {
    "duration": 15,
    "start_time": "2025-01-25T03:25:48.225Z"
   },
   {
    "duration": 10,
    "start_time": "2025-01-25T03:27:24.825Z"
   },
   {
    "duration": 642,
    "start_time": "2025-01-25T04:40:55.306Z"
   },
   {
    "duration": 11,
    "start_time": "2025-01-25T04:42:00.756Z"
   },
   {
    "duration": 30,
    "start_time": "2025-01-25T04:42:15.822Z"
   },
   {
    "duration": 30,
    "start_time": "2025-01-25T04:48:41.711Z"
   },
   {
    "duration": 32,
    "start_time": "2025-01-25T04:49:34.234Z"
   },
   {
    "duration": 23,
    "start_time": "2025-01-25T04:58:30.551Z"
   },
   {
    "duration": 46,
    "start_time": "2025-01-25T04:59:31.812Z"
   },
   {
    "duration": 49,
    "start_time": "2025-01-25T04:59:52.212Z"
   },
   {
    "duration": 24,
    "start_time": "2025-01-25T05:00:02.966Z"
   },
   {
    "duration": 34,
    "start_time": "2025-01-25T05:00:32.410Z"
   },
   {
    "duration": 3,
    "start_time": "2025-01-25T05:01:05.931Z"
   },
   {
    "duration": 188,
    "start_time": "2025-01-25T05:01:05.937Z"
   },
   {
    "duration": 30,
    "start_time": "2025-01-25T05:01:06.131Z"
   },
   {
    "duration": 22,
    "start_time": "2025-01-25T05:01:06.162Z"
   },
   {
    "duration": 3,
    "start_time": "2025-01-25T05:01:06.187Z"
   },
   {
    "duration": 5,
    "start_time": "2025-01-25T05:01:06.192Z"
   },
   {
    "duration": 3,
    "start_time": "2025-01-25T05:01:06.198Z"
   },
   {
    "duration": 47,
    "start_time": "2025-01-25T05:01:06.203Z"
   },
   {
    "duration": 26,
    "start_time": "2025-01-25T05:01:06.251Z"
   },
   {
    "duration": 17,
    "start_time": "2025-01-25T05:01:06.278Z"
   },
   {
    "duration": 65,
    "start_time": "2025-01-25T05:01:06.296Z"
   },
   {
    "duration": 58,
    "start_time": "2025-01-25T05:01:06.363Z"
   },
   {
    "duration": 59,
    "start_time": "2025-01-25T05:01:06.427Z"
   },
   {
    "duration": 76,
    "start_time": "2025-01-25T05:01:06.489Z"
   },
   {
    "duration": 31,
    "start_time": "2025-01-25T05:01:06.567Z"
   },
   {
    "duration": 3,
    "start_time": "2025-01-25T05:01:06.599Z"
   },
   {
    "duration": 30,
    "start_time": "2025-01-25T05:01:06.604Z"
   },
   {
    "duration": 14,
    "start_time": "2025-01-25T05:01:06.635Z"
   },
   {
    "duration": 19,
    "start_time": "2025-01-25T05:01:06.657Z"
   },
   {
    "duration": 16,
    "start_time": "2025-01-25T05:01:06.678Z"
   },
   {
    "duration": 28,
    "start_time": "2025-01-25T05:01:06.697Z"
   },
   {
    "duration": 30,
    "start_time": "2025-01-25T05:01:06.733Z"
   },
   {
    "duration": 15,
    "start_time": "2025-01-25T05:01:06.766Z"
   },
   {
    "duration": 2,
    "start_time": "2025-01-25T05:01:06.782Z"
   },
   {
    "duration": 3,
    "start_time": "2025-01-25T05:01:15.958Z"
   },
   {
    "duration": 197,
    "start_time": "2025-01-25T05:01:15.963Z"
   },
   {
    "duration": 10,
    "start_time": "2025-01-25T05:01:16.162Z"
   },
   {
    "duration": 21,
    "start_time": "2025-01-25T05:01:16.174Z"
   },
   {
    "duration": 3,
    "start_time": "2025-01-25T05:01:16.198Z"
   },
   {
    "duration": 9,
    "start_time": "2025-01-25T05:01:16.203Z"
   },
   {
    "duration": 6,
    "start_time": "2025-01-25T05:01:16.220Z"
   },
   {
    "duration": 36,
    "start_time": "2025-01-25T05:01:16.228Z"
   },
   {
    "duration": 25,
    "start_time": "2025-01-25T05:01:16.267Z"
   },
   {
    "duration": 28,
    "start_time": "2025-01-25T05:01:16.294Z"
   },
   {
    "duration": 58,
    "start_time": "2025-01-25T05:01:16.329Z"
   },
   {
    "duration": 77,
    "start_time": "2025-01-25T05:01:16.389Z"
   },
   {
    "duration": 42,
    "start_time": "2025-01-25T05:01:16.467Z"
   },
   {
    "duration": 59,
    "start_time": "2025-01-25T05:01:16.511Z"
   },
   {
    "duration": 32,
    "start_time": "2025-01-25T05:01:16.571Z"
   },
   {
    "duration": 6,
    "start_time": "2025-01-25T05:01:16.608Z"
   },
   {
    "duration": 26,
    "start_time": "2025-01-25T05:01:16.615Z"
   },
   {
    "duration": 6,
    "start_time": "2025-01-25T05:01:16.642Z"
   },
   {
    "duration": 21,
    "start_time": "2025-01-25T05:01:16.650Z"
   },
   {
    "duration": 17,
    "start_time": "2025-01-25T05:01:16.674Z"
   },
   {
    "duration": 25,
    "start_time": "2025-01-25T05:01:16.692Z"
   },
   {
    "duration": 30,
    "start_time": "2025-01-25T05:01:16.718Z"
   },
   {
    "duration": 21,
    "start_time": "2025-01-25T05:01:16.750Z"
   },
   {
    "duration": 3,
    "start_time": "2025-01-25T05:01:16.772Z"
   },
   {
    "duration": 22,
    "start_time": "2025-01-25T05:01:23.853Z"
   },
   {
    "duration": 10,
    "start_time": "2025-01-25T05:01:26.973Z"
   },
   {
    "duration": 17,
    "start_time": "2025-01-25T05:01:39.966Z"
   },
   {
    "duration": 18,
    "start_time": "2025-01-25T05:01:43.084Z"
   },
   {
    "duration": 10,
    "start_time": "2025-01-25T05:01:48.950Z"
   },
   {
    "duration": 14,
    "start_time": "2025-01-25T05:01:54.063Z"
   },
   {
    "duration": 38,
    "start_time": "2025-01-25T05:02:03.314Z"
   },
   {
    "duration": 20,
    "start_time": "2025-01-25T05:02:05.839Z"
   },
   {
    "duration": 10,
    "start_time": "2025-01-25T05:02:10.454Z"
   },
   {
    "duration": 22,
    "start_time": "2025-01-25T05:02:13.134Z"
   },
   {
    "duration": 3,
    "start_time": "2025-01-25T05:02:30.148Z"
   },
   {
    "duration": 154,
    "start_time": "2025-01-25T05:02:30.153Z"
   },
   {
    "duration": 16,
    "start_time": "2025-01-25T05:02:30.309Z"
   },
   {
    "duration": 36,
    "start_time": "2025-01-25T05:02:30.327Z"
   },
   {
    "duration": 4,
    "start_time": "2025-01-25T05:02:30.365Z"
   },
   {
    "duration": 8,
    "start_time": "2025-01-25T05:02:30.370Z"
   },
   {
    "duration": 3,
    "start_time": "2025-01-25T05:02:30.380Z"
   },
   {
    "duration": 31,
    "start_time": "2025-01-25T05:02:30.385Z"
   },
   {
    "duration": 53,
    "start_time": "2025-01-25T05:02:30.418Z"
   },
   {
    "duration": 19,
    "start_time": "2025-01-25T05:02:30.473Z"
   },
   {
    "duration": 80,
    "start_time": "2025-01-25T05:02:30.493Z"
   },
   {
    "duration": 88,
    "start_time": "2025-01-25T05:02:30.575Z"
   },
   {
    "duration": 50,
    "start_time": "2025-01-25T05:02:30.665Z"
   },
   {
    "duration": 57,
    "start_time": "2025-01-25T05:02:30.723Z"
   },
   {
    "duration": 50,
    "start_time": "2025-01-25T05:02:30.782Z"
   },
   {
    "duration": 10,
    "start_time": "2025-01-25T05:02:30.847Z"
   },
   {
    "duration": 17,
    "start_time": "2025-01-25T05:02:30.858Z"
   },
   {
    "duration": 5,
    "start_time": "2025-01-25T05:02:30.876Z"
   },
   {
    "duration": 16,
    "start_time": "2025-01-25T05:02:30.883Z"
   },
   {
    "duration": 56,
    "start_time": "2025-01-25T05:02:30.900Z"
   },
   {
    "duration": 9,
    "start_time": "2025-01-25T05:02:30.961Z"
   },
   {
    "duration": 13,
    "start_time": "2025-01-25T05:02:30.972Z"
   },
   {
    "duration": 12,
    "start_time": "2025-01-25T05:02:30.987Z"
   },
   {
    "duration": 3,
    "start_time": "2025-01-25T05:02:31.000Z"
   },
   {
    "duration": 2,
    "start_time": "2025-01-25T05:02:47.266Z"
   },
   {
    "duration": 190,
    "start_time": "2025-01-25T05:02:49.406Z"
   },
   {
    "duration": 10,
    "start_time": "2025-01-25T05:02:51.774Z"
   },
   {
    "duration": 21,
    "start_time": "2025-01-25T05:02:55.458Z"
   },
   {
    "duration": 3,
    "start_time": "2025-01-25T05:03:00.074Z"
   },
   {
    "duration": 5,
    "start_time": "2025-01-25T05:03:01.648Z"
   },
   {
    "duration": 3,
    "start_time": "2025-01-25T05:03:04.978Z"
   },
   {
    "duration": 43,
    "start_time": "2025-01-25T05:03:07.709Z"
   },
   {
    "duration": 36,
    "start_time": "2025-01-25T05:03:09.634Z"
   },
   {
    "duration": 30,
    "start_time": "2025-01-25T05:03:13.834Z"
   },
   {
    "duration": 72,
    "start_time": "2025-01-25T05:03:16.610Z"
   },
   {
    "duration": 87,
    "start_time": "2025-01-25T05:03:18.774Z"
   },
   {
    "duration": 55,
    "start_time": "2025-01-25T05:03:21.334Z"
   },
   {
    "duration": 74,
    "start_time": "2025-01-25T05:03:22.797Z"
   },
   {
    "duration": 60,
    "start_time": "2025-01-25T05:03:25.516Z"
   },
   {
    "duration": 3,
    "start_time": "2025-01-25T05:03:30.758Z"
   },
   {
    "duration": 26,
    "start_time": "2025-01-25T05:03:32.418Z"
   },
   {
    "duration": 6,
    "start_time": "2025-01-25T05:03:33.781Z"
   },
   {
    "duration": 27,
    "start_time": "2025-01-25T05:03:38.533Z"
   },
   {
    "duration": 21,
    "start_time": "2025-01-25T05:03:41.746Z"
   },
   {
    "duration": 10,
    "start_time": "2025-01-25T05:03:53.780Z"
   },
   {
    "duration": 21,
    "start_time": "2025-01-25T05:03:57.729Z"
   },
   {
    "duration": 21,
    "start_time": "2025-01-25T05:03:59.736Z"
   },
   {
    "duration": 15,
    "start_time": "2025-01-25T05:04:02.796Z"
   },
   {
    "duration": 16,
    "start_time": "2025-01-25T05:04:04.057Z"
   },
   {
    "duration": 25,
    "start_time": "2025-01-25T05:04:07.431Z"
   },
   {
    "duration": 17,
    "start_time": "2025-01-25T05:04:09.520Z"
   },
   {
    "duration": 25,
    "start_time": "2025-01-25T05:04:10.934Z"
   },
   {
    "duration": 33,
    "start_time": "2025-01-25T05:04:13.602Z"
   },
   {
    "duration": 10,
    "start_time": "2025-01-25T05:04:22.272Z"
   },
   {
    "duration": 11,
    "start_time": "2025-01-25T05:04:27.046Z"
   },
   {
    "duration": 17,
    "start_time": "2025-01-25T05:04:38.641Z"
   },
   {
    "duration": 23,
    "start_time": "2025-01-25T05:04:47.118Z"
   },
   {
    "duration": 16,
    "start_time": "2025-01-25T05:04:50.577Z"
   },
   {
    "duration": 3,
    "start_time": "2025-01-25T05:05:02.942Z"
   },
   {
    "duration": 3,
    "start_time": "2025-01-25T05:05:07.796Z"
   },
   {
    "duration": 199,
    "start_time": "2025-01-25T05:05:07.809Z"
   },
   {
    "duration": 22,
    "start_time": "2025-01-25T05:05:08.011Z"
   },
   {
    "duration": 37,
    "start_time": "2025-01-25T05:05:08.035Z"
   },
   {
    "duration": 3,
    "start_time": "2025-01-25T05:05:08.074Z"
   },
   {
    "duration": 7,
    "start_time": "2025-01-25T05:05:08.079Z"
   },
   {
    "duration": 3,
    "start_time": "2025-01-25T05:05:08.087Z"
   },
   {
    "duration": 18,
    "start_time": "2025-01-25T05:05:08.092Z"
   },
   {
    "duration": 41,
    "start_time": "2025-01-25T05:05:08.112Z"
   },
   {
    "duration": 22,
    "start_time": "2025-01-25T05:05:08.155Z"
   },
   {
    "duration": 41,
    "start_time": "2025-01-25T05:05:08.178Z"
   },
   {
    "duration": 67,
    "start_time": "2025-01-25T05:05:08.221Z"
   },
   {
    "duration": 51,
    "start_time": "2025-01-25T05:05:08.289Z"
   },
   {
    "duration": 42,
    "start_time": "2025-01-25T05:05:08.348Z"
   },
   {
    "duration": 68,
    "start_time": "2025-01-25T05:05:08.393Z"
   },
   {
    "duration": 2,
    "start_time": "2025-01-25T05:05:08.462Z"
   },
   {
    "duration": 12,
    "start_time": "2025-01-25T05:05:08.466Z"
   },
   {
    "duration": 5,
    "start_time": "2025-01-25T05:05:08.479Z"
   },
   {
    "duration": 16,
    "start_time": "2025-01-25T05:05:08.486Z"
   },
   {
    "duration": 41,
    "start_time": "2025-01-25T05:05:08.503Z"
   },
   {
    "duration": 16,
    "start_time": "2025-01-25T05:05:08.546Z"
   },
   {
    "duration": 13,
    "start_time": "2025-01-25T05:05:08.563Z"
   },
   {
    "duration": 11,
    "start_time": "2025-01-25T05:05:08.578Z"
   },
   {
    "duration": 2,
    "start_time": "2025-01-25T05:05:08.591Z"
   },
   {
    "duration": 28,
    "start_time": "2025-01-25T05:05:12.443Z"
   },
   {
    "duration": 18,
    "start_time": "2025-01-25T05:05:14.711Z"
   },
   {
    "duration": 198,
    "start_time": "2025-01-25T05:06:42.359Z"
   },
   {
    "duration": 10,
    "start_time": "2025-01-25T05:06:48.287Z"
   },
   {
    "duration": 5,
    "start_time": "2025-01-25T05:08:03.243Z"
   },
   {
    "duration": 5,
    "start_time": "2025-01-25T05:08:17.029Z"
   },
   {
    "duration": 454,
    "start_time": "2025-01-25T05:08:27.531Z"
   },
   {
    "duration": 59,
    "start_time": "2025-01-25T05:08:31.237Z"
   },
   {
    "duration": 10,
    "start_time": "2025-01-25T05:08:59.818Z"
   },
   {
    "duration": 167,
    "start_time": "2025-01-25T05:08:59.830Z"
   },
   {
    "duration": 13,
    "start_time": "2025-01-25T05:08:59.999Z"
   },
   {
    "duration": 39,
    "start_time": "2025-01-25T05:09:00.013Z"
   },
   {
    "duration": 2,
    "start_time": "2025-01-25T05:09:00.055Z"
   },
   {
    "duration": 12,
    "start_time": "2025-01-25T05:09:00.058Z"
   },
   {
    "duration": 7,
    "start_time": "2025-01-25T05:09:00.071Z"
   },
   {
    "duration": 19,
    "start_time": "2025-01-25T05:09:00.081Z"
   },
   {
    "duration": 67,
    "start_time": "2025-01-25T05:09:00.102Z"
   },
   {
    "duration": 16,
    "start_time": "2025-01-25T05:09:00.171Z"
   },
   {
    "duration": 74,
    "start_time": "2025-01-25T05:09:00.189Z"
   },
   {
    "duration": 54,
    "start_time": "2025-01-25T05:09:00.265Z"
   },
   {
    "duration": 57,
    "start_time": "2025-01-25T05:09:00.332Z"
   },
   {
    "duration": 70,
    "start_time": "2025-01-25T05:09:00.391Z"
   },
   {
    "duration": 33,
    "start_time": "2025-01-25T05:09:00.465Z"
   },
   {
    "duration": 3,
    "start_time": "2025-01-25T05:09:00.500Z"
   },
   {
    "duration": 57,
    "start_time": "2025-01-25T05:09:00.504Z"
   },
   {
    "duration": 6,
    "start_time": "2025-01-25T05:09:00.563Z"
   },
   {
    "duration": 17,
    "start_time": "2025-01-25T05:09:00.571Z"
   },
   {
    "duration": 29,
    "start_time": "2025-01-25T05:09:00.589Z"
   },
   {
    "duration": 39,
    "start_time": "2025-01-25T05:09:00.620Z"
   },
   {
    "duration": 16,
    "start_time": "2025-01-25T05:09:00.660Z"
   },
   {
    "duration": 15,
    "start_time": "2025-01-25T05:09:00.678Z"
   },
   {
    "duration": 3,
    "start_time": "2025-01-25T05:09:00.695Z"
   },
   {
    "duration": 29,
    "start_time": "2025-01-25T05:14:15.899Z"
   },
   {
    "duration": 18,
    "start_time": "2025-01-25T05:14:39.339Z"
   },
   {
    "duration": 5,
    "start_time": "2025-01-25T05:16:09.078Z"
   },
   {
    "duration": 46,
    "start_time": "2025-01-25T05:16:12.878Z"
   },
   {
    "duration": 43,
    "start_time": "2025-01-25T05:16:15.846Z"
   },
   {
    "duration": 38,
    "start_time": "2025-01-25T05:16:18.654Z"
   },
   {
    "duration": 54,
    "start_time": "2025-01-25T05:16:30.885Z"
   },
   {
    "duration": 3,
    "start_time": "2025-01-25T05:16:35.590Z"
   },
   {
    "duration": 160,
    "start_time": "2025-01-25T05:16:35.596Z"
   },
   {
    "duration": 10,
    "start_time": "2025-01-25T05:16:35.758Z"
   },
   {
    "duration": 21,
    "start_time": "2025-01-25T05:16:35.769Z"
   },
   {
    "duration": 3,
    "start_time": "2025-01-25T05:16:35.792Z"
   },
   {
    "duration": 6,
    "start_time": "2025-01-25T05:16:35.805Z"
   },
   {
    "duration": 16,
    "start_time": "2025-01-25T05:16:35.813Z"
   },
   {
    "duration": 23,
    "start_time": "2025-01-25T05:16:35.830Z"
   },
   {
    "duration": 25,
    "start_time": "2025-01-25T05:16:35.855Z"
   },
   {
    "duration": 25,
    "start_time": "2025-01-25T05:16:35.882Z"
   },
   {
    "duration": 57,
    "start_time": "2025-01-25T05:16:35.909Z"
   },
   {
    "duration": 66,
    "start_time": "2025-01-25T05:16:35.967Z"
   },
   {
    "duration": 40,
    "start_time": "2025-01-25T05:16:36.037Z"
   },
   {
    "duration": 42,
    "start_time": "2025-01-25T05:16:36.081Z"
   },
   {
    "duration": 37,
    "start_time": "2025-01-25T05:16:36.126Z"
   },
   {
    "duration": 2,
    "start_time": "2025-01-25T05:16:36.165Z"
   },
   {
    "duration": 13,
    "start_time": "2025-01-25T05:16:36.169Z"
   },
   {
    "duration": 23,
    "start_time": "2025-01-25T05:16:36.183Z"
   },
   {
    "duration": 19,
    "start_time": "2025-01-25T05:16:36.208Z"
   },
   {
    "duration": 19,
    "start_time": "2025-01-25T05:16:36.229Z"
   },
   {
    "duration": 4,
    "start_time": "2025-01-25T05:16:36.250Z"
   },
   {
    "duration": 90,
    "start_time": "2025-01-25T05:16:36.256Z"
   },
   {
    "duration": 0,
    "start_time": "2025-01-25T05:16:36.348Z"
   },
   {
    "duration": 0,
    "start_time": "2025-01-25T05:16:36.349Z"
   },
   {
    "duration": 56,
    "start_time": "2025-01-25T05:17:18.401Z"
   },
   {
    "duration": 50,
    "start_time": "2025-01-25T05:18:13.083Z"
   },
   {
    "duration": 59,
    "start_time": "2025-01-25T05:18:28.173Z"
   },
   {
    "duration": 5,
    "start_time": "2025-01-25T05:18:33.324Z"
   },
   {
    "duration": 125,
    "start_time": "2025-01-25T05:18:33.332Z"
   },
   {
    "duration": 9,
    "start_time": "2025-01-25T05:18:33.459Z"
   },
   {
    "duration": 24,
    "start_time": "2025-01-25T05:18:33.470Z"
   },
   {
    "duration": 10,
    "start_time": "2025-01-25T05:18:33.498Z"
   },
   {
    "duration": 7,
    "start_time": "2025-01-25T05:18:33.517Z"
   },
   {
    "duration": 5,
    "start_time": "2025-01-25T05:18:33.532Z"
   },
   {
    "duration": 20,
    "start_time": "2025-01-25T05:18:33.539Z"
   },
   {
    "duration": 24,
    "start_time": "2025-01-25T05:18:33.561Z"
   },
   {
    "duration": 29,
    "start_time": "2025-01-25T05:18:33.587Z"
   },
   {
    "duration": 49,
    "start_time": "2025-01-25T05:18:33.617Z"
   },
   {
    "duration": 68,
    "start_time": "2025-01-25T05:18:33.669Z"
   },
   {
    "duration": 42,
    "start_time": "2025-01-25T05:18:33.739Z"
   },
   {
    "duration": 44,
    "start_time": "2025-01-25T05:18:33.785Z"
   },
   {
    "duration": 35,
    "start_time": "2025-01-25T05:18:33.831Z"
   },
   {
    "duration": 3,
    "start_time": "2025-01-25T05:18:33.868Z"
   },
   {
    "duration": 13,
    "start_time": "2025-01-25T05:18:33.873Z"
   },
   {
    "duration": 17,
    "start_time": "2025-01-25T05:18:33.888Z"
   },
   {
    "duration": 26,
    "start_time": "2025-01-25T05:18:33.907Z"
   },
   {
    "duration": 18,
    "start_time": "2025-01-25T05:18:33.935Z"
   },
   {
    "duration": 59,
    "start_time": "2025-01-25T05:18:33.955Z"
   },
   {
    "duration": 0,
    "start_time": "2025-01-25T05:18:34.016Z"
   },
   {
    "duration": 0,
    "start_time": "2025-01-25T05:18:34.017Z"
   },
   {
    "duration": 0,
    "start_time": "2025-01-25T05:18:34.019Z"
   },
   {
    "duration": 4,
    "start_time": "2025-01-25T05:19:20.714Z"
   },
   {
    "duration": 139,
    "start_time": "2025-01-25T05:19:20.720Z"
   },
   {
    "duration": 12,
    "start_time": "2025-01-25T05:19:20.862Z"
   },
   {
    "duration": 33,
    "start_time": "2025-01-25T05:19:20.876Z"
   },
   {
    "duration": 5,
    "start_time": "2025-01-25T05:19:20.914Z"
   },
   {
    "duration": 10,
    "start_time": "2025-01-25T05:19:20.921Z"
   },
   {
    "duration": 3,
    "start_time": "2025-01-25T05:19:20.936Z"
   },
   {
    "duration": 17,
    "start_time": "2025-01-25T05:19:20.941Z"
   },
   {
    "duration": 25,
    "start_time": "2025-01-25T05:19:20.959Z"
   },
   {
    "duration": 36,
    "start_time": "2025-01-25T05:19:20.987Z"
   },
   {
    "duration": 46,
    "start_time": "2025-01-25T05:19:21.027Z"
   },
   {
    "duration": 70,
    "start_time": "2025-01-25T05:19:21.075Z"
   },
   {
    "duration": 41,
    "start_time": "2025-01-25T05:19:21.146Z"
   },
   {
    "duration": 72,
    "start_time": "2025-01-25T05:19:21.189Z"
   },
   {
    "duration": 32,
    "start_time": "2025-01-25T05:19:21.263Z"
   },
   {
    "duration": 3,
    "start_time": "2025-01-25T05:19:21.297Z"
   },
   {
    "duration": 18,
    "start_time": "2025-01-25T05:19:21.305Z"
   },
   {
    "duration": 8,
    "start_time": "2025-01-25T05:19:21.325Z"
   },
   {
    "duration": 17,
    "start_time": "2025-01-25T05:19:21.335Z"
   },
   {
    "duration": 15,
    "start_time": "2025-01-25T05:19:21.353Z"
   },
   {
    "duration": 39,
    "start_time": "2025-01-25T05:19:26.866Z"
   },
   {
    "duration": 13,
    "start_time": "2025-01-25T05:20:10.024Z"
   },
   {
    "duration": 10,
    "start_time": "2025-01-25T05:20:43.091Z"
   },
   {
    "duration": 19,
    "start_time": "2025-01-25T05:21:14.641Z"
   },
   {
    "duration": 340,
    "start_time": "2025-01-25T17:27:20.712Z"
   },
   {
    "duration": 134,
    "start_time": "2025-01-25T17:27:21.054Z"
   },
   {
    "duration": 16,
    "start_time": "2025-01-25T17:27:21.190Z"
   },
   {
    "duration": 24,
    "start_time": "2025-01-25T17:27:21.207Z"
   },
   {
    "duration": 4,
    "start_time": "2025-01-25T17:27:21.233Z"
   },
   {
    "duration": 5,
    "start_time": "2025-01-25T17:27:21.239Z"
   },
   {
    "duration": 2,
    "start_time": "2025-01-25T17:27:21.246Z"
   },
   {
    "duration": 20,
    "start_time": "2025-01-25T17:27:21.250Z"
   },
   {
    "duration": 58,
    "start_time": "2025-01-25T17:27:21.272Z"
   },
   {
    "duration": 18,
    "start_time": "2025-01-25T17:27:21.331Z"
   },
   {
    "duration": 59,
    "start_time": "2025-01-25T17:27:21.351Z"
   },
   {
    "duration": 50,
    "start_time": "2025-01-25T17:27:21.413Z"
   },
   {
    "duration": 56,
    "start_time": "2025-01-25T17:27:21.464Z"
   },
   {
    "duration": 40,
    "start_time": "2025-01-25T17:27:21.523Z"
   },
   {
    "duration": 48,
    "start_time": "2025-01-25T17:27:21.565Z"
   },
   {
    "duration": 3,
    "start_time": "2025-01-25T17:27:21.616Z"
   },
   {
    "duration": 13,
    "start_time": "2025-01-25T17:27:21.621Z"
   },
   {
    "duration": 5,
    "start_time": "2025-01-25T17:27:21.636Z"
   },
   {
    "duration": 17,
    "start_time": "2025-01-25T17:27:21.643Z"
   },
   {
    "duration": 45,
    "start_time": "2025-01-25T17:27:21.661Z"
   },
   {
    "duration": 10,
    "start_time": "2025-01-25T17:27:21.708Z"
   },
   {
    "duration": 13,
    "start_time": "2025-01-25T17:27:21.720Z"
   },
   {
    "duration": 14,
    "start_time": "2025-01-25T17:27:21.735Z"
   },
   {
    "duration": 3,
    "start_time": "2025-01-25T17:27:21.751Z"
   },
   {
    "duration": 11,
    "start_time": "2025-01-25T17:27:31.536Z"
   },
   {
    "duration": 25,
    "start_time": "2025-01-25T17:27:39.258Z"
   },
   {
    "duration": 14,
    "start_time": "2025-01-25T17:27:42.948Z"
   },
   {
    "duration": 105,
    "start_time": "2025-01-25T17:31:26.869Z"
   },
   {
    "duration": 20,
    "start_time": "2025-01-25T17:34:12.867Z"
   },
   {
    "duration": 17,
    "start_time": "2025-01-25T17:35:32.258Z"
   },
   {
    "duration": 137,
    "start_time": "2025-01-25T17:35:51.442Z"
   },
   {
    "duration": 326,
    "start_time": "2025-01-25T17:36:08.302Z"
   },
   {
    "duration": 26,
    "start_time": "2025-01-25T17:36:47.282Z"
   },
   {
    "duration": 3,
    "start_time": "2025-01-25T17:38:07.089Z"
   },
   {
    "duration": 121,
    "start_time": "2025-01-25T17:38:13.318Z"
   },
   {
    "duration": 10,
    "start_time": "2025-01-25T17:38:13.441Z"
   },
   {
    "duration": 22,
    "start_time": "2025-01-25T17:38:13.453Z"
   },
   {
    "duration": 3,
    "start_time": "2025-01-25T17:38:13.477Z"
   },
   {
    "duration": 5,
    "start_time": "2025-01-25T17:38:13.506Z"
   },
   {
    "duration": 3,
    "start_time": "2025-01-25T17:38:13.512Z"
   },
   {
    "duration": 18,
    "start_time": "2025-01-25T17:38:13.517Z"
   },
   {
    "duration": 27,
    "start_time": "2025-01-25T17:38:13.536Z"
   },
   {
    "duration": 43,
    "start_time": "2025-01-25T17:38:13.565Z"
   },
   {
    "duration": 39,
    "start_time": "2025-01-25T17:38:13.610Z"
   },
   {
    "duration": 63,
    "start_time": "2025-01-25T17:38:13.651Z"
   },
   {
    "duration": 44,
    "start_time": "2025-01-25T17:38:13.716Z"
   },
   {
    "duration": 48,
    "start_time": "2025-01-25T17:38:13.762Z"
   },
   {
    "duration": 32,
    "start_time": "2025-01-25T17:38:13.814Z"
   },
   {
    "duration": 3,
    "start_time": "2025-01-25T17:38:13.848Z"
   },
   {
    "duration": 13,
    "start_time": "2025-01-25T17:38:13.852Z"
   },
   {
    "duration": 5,
    "start_time": "2025-01-25T17:38:13.867Z"
   },
   {
    "duration": 46,
    "start_time": "2025-01-25T17:38:13.874Z"
   },
   {
    "duration": 16,
    "start_time": "2025-01-25T17:38:13.922Z"
   },
   {
    "duration": 9,
    "start_time": "2025-01-25T17:38:13.940Z"
   },
   {
    "duration": 14,
    "start_time": "2025-01-25T17:38:13.950Z"
   },
   {
    "duration": 81,
    "start_time": "2025-01-25T17:38:13.966Z"
   },
   {
    "duration": 0,
    "start_time": "2025-01-25T17:38:14.050Z"
   },
   {
    "duration": 11,
    "start_time": "2025-01-25T17:39:26.535Z"
   },
   {
    "duration": 25,
    "start_time": "2025-01-25T17:39:55.341Z"
   },
   {
    "duration": 76,
    "start_time": "2025-01-25T17:41:21.226Z"
   },
   {
    "duration": 32,
    "start_time": "2025-01-25T17:41:32.807Z"
   },
   {
    "duration": 25,
    "start_time": "2025-01-25T17:41:45.535Z"
   },
   {
    "duration": 4,
    "start_time": "2025-01-25T17:42:29.518Z"
   },
   {
    "duration": 4,
    "start_time": "2025-01-25T17:42:36.190Z"
   },
   {
    "duration": 10,
    "start_time": "2025-01-25T17:42:41.581Z"
   },
   {
    "duration": 3,
    "start_time": "2025-01-25T17:42:48.709Z"
   },
   {
    "duration": 16,
    "start_time": "2025-01-25T17:42:54.862Z"
   },
   {
    "duration": 25,
    "start_time": "2025-01-25T17:43:09.746Z"
   },
   {
    "duration": 14,
    "start_time": "2025-01-25T17:44:08.613Z"
   },
   {
    "duration": 13,
    "start_time": "2025-01-25T17:44:13.309Z"
   },
   {
    "duration": 4,
    "start_time": "2025-01-25T17:44:41.472Z"
   },
   {
    "duration": 13,
    "start_time": "2025-01-25T17:45:25.397Z"
   },
   {
    "duration": 61,
    "start_time": "2025-01-25T17:46:29.292Z"
   },
   {
    "duration": 18,
    "start_time": "2025-01-25T17:47:14.038Z"
   },
   {
    "duration": 18,
    "start_time": "2025-01-25T17:47:19.249Z"
   },
   {
    "duration": 10,
    "start_time": "2025-01-25T17:47:20.605Z"
   },
   {
    "duration": 22,
    "start_time": "2025-01-25T17:47:24.363Z"
   },
   {
    "duration": 12,
    "start_time": "2025-01-25T17:47:42.562Z"
   },
   {
    "duration": 13,
    "start_time": "2025-01-25T17:47:51.163Z"
   },
   {
    "duration": 24,
    "start_time": "2025-01-25T17:49:17.419Z"
   },
   {
    "duration": 23,
    "start_time": "2025-01-25T17:50:07.127Z"
   },
   {
    "duration": 18,
    "start_time": "2025-01-25T19:00:54.431Z"
   },
   {
    "duration": 19,
    "start_time": "2025-01-25T19:01:24.823Z"
   },
   {
    "duration": 18,
    "start_time": "2025-01-25T19:01:40.226Z"
   },
   {
    "duration": 7,
    "start_time": "2025-01-25T19:05:23.901Z"
   },
   {
    "duration": 9,
    "start_time": "2025-01-25T19:08:08.296Z"
   },
   {
    "duration": 11,
    "start_time": "2025-01-25T19:09:19.307Z"
   },
   {
    "duration": 36,
    "start_time": "2025-01-25T19:10:28.162Z"
   },
   {
    "duration": 37,
    "start_time": "2025-01-25T19:10:36.109Z"
   },
   {
    "duration": 19,
    "start_time": "2025-01-25T19:10:42.687Z"
   },
   {
    "duration": 10,
    "start_time": "2025-01-25T19:10:45.068Z"
   },
   {
    "duration": 390,
    "start_time": "2025-01-25T19:11:55.984Z"
   },
   {
    "duration": 21,
    "start_time": "2025-01-25T19:11:59.769Z"
   },
   {
    "duration": 37,
    "start_time": "2025-01-25T19:12:02.960Z"
   },
   {
    "duration": 12,
    "start_time": "2025-01-25T19:12:51.613Z"
   },
   {
    "duration": 36,
    "start_time": "2025-01-25T19:12:55.223Z"
   },
   {
    "duration": 20,
    "start_time": "2025-01-25T19:12:59.306Z"
   },
   {
    "duration": 6,
    "start_time": "2025-01-25T19:13:01.296Z"
   },
   {
    "duration": 6,
    "start_time": "2025-01-25T19:13:04.398Z"
   },
   {
    "duration": 35,
    "start_time": "2025-01-25T19:13:07.096Z"
   },
   {
    "duration": 36,
    "start_time": "2025-01-25T19:13:14.858Z"
   },
   {
    "duration": 18,
    "start_time": "2025-01-25T19:13:16.930Z"
   },
   {
    "duration": 9,
    "start_time": "2025-01-25T19:13:18.563Z"
   },
   {
    "duration": 378,
    "start_time": "2025-01-25T21:14:59.493Z"
   },
   {
    "duration": 140,
    "start_time": "2025-01-25T21:14:59.873Z"
   },
   {
    "duration": 15,
    "start_time": "2025-01-25T21:15:00.015Z"
   },
   {
    "duration": 24,
    "start_time": "2025-01-25T21:15:00.034Z"
   },
   {
    "duration": 3,
    "start_time": "2025-01-25T21:15:00.060Z"
   },
   {
    "duration": 6,
    "start_time": "2025-01-25T21:15:00.065Z"
   },
   {
    "duration": 34,
    "start_time": "2025-01-25T21:15:00.073Z"
   },
   {
    "duration": 20,
    "start_time": "2025-01-25T21:15:00.109Z"
   },
   {
    "duration": 28,
    "start_time": "2025-01-25T21:15:00.130Z"
   },
   {
    "duration": 46,
    "start_time": "2025-01-25T21:15:00.162Z"
   },
   {
    "duration": 40,
    "start_time": "2025-01-25T21:15:00.210Z"
   },
   {
    "duration": 85,
    "start_time": "2025-01-25T21:15:00.252Z"
   },
   {
    "duration": 41,
    "start_time": "2025-01-25T21:15:00.338Z"
   },
   {
    "duration": 58,
    "start_time": "2025-01-25T21:15:00.381Z"
   },
   {
    "duration": 32,
    "start_time": "2025-01-25T21:15:00.441Z"
   },
   {
    "duration": 7,
    "start_time": "2025-01-25T21:15:00.475Z"
   },
   {
    "duration": 32,
    "start_time": "2025-01-25T21:15:00.483Z"
   },
   {
    "duration": 6,
    "start_time": "2025-01-25T21:15:00.517Z"
   },
   {
    "duration": 18,
    "start_time": "2025-01-25T21:15:00.525Z"
   },
   {
    "duration": 18,
    "start_time": "2025-01-25T21:15:00.545Z"
   },
   {
    "duration": 9,
    "start_time": "2025-01-25T21:15:00.564Z"
   },
   {
    "duration": 62,
    "start_time": "2025-01-25T21:15:00.575Z"
   },
   {
    "duration": 25,
    "start_time": "2025-01-25T21:15:00.640Z"
   },
   {
    "duration": 14,
    "start_time": "2025-01-25T21:15:00.668Z"
   }
  ],
  "kernelspec": {
   "display_name": "base",
   "language": "python",
   "name": "python3"
  },
  "language_info": {
   "codemirror_mode": {
    "name": "ipython",
    "version": 3
   },
   "file_extension": ".py",
   "mimetype": "text/x-python",
   "name": "python",
   "nbconvert_exporter": "python",
   "pygments_lexer": "ipython3",
   "version": "3.13.5"
  },
  "toc": {
   "base_numbering": 1,
   "nav_menu": {},
   "number_sections": true,
   "sideBar": true,
   "skip_h1_title": true,
   "title_cell": "Table of Contents",
   "title_sidebar": "Contents",
   "toc_cell": false,
   "toc_position": {
    "height": "calc(100% - 180px)",
    "left": "10px",
    "top": "150px",
    "width": "266px"
   },
   "toc_section_display": true,
   "toc_window_display": true
  }
 },
 "nbformat": 4,
 "nbformat_minor": 5
}
